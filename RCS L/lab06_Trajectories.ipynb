{
 "cells": [
  {
   "cell_type": "markdown",
   "metadata": {
    "jp-MarkdownHeadingCollapsed": true,
    "tags": []
   },
   "source": [
    "# End-effector trajectories\n",
    "\n",
    "Until now, we have seen how we describe a robotic system in a static configuration, either when it is about the relationship between joint position and end-effector position, or when it is about joint velocity and end-effector velocity (but solved for a specific joint configuration). However, one of the most relevant tasks for a robotic system is to be able to plan its trajectory over time. This is important for two reasons: a) it gives us a way to control the velocity of the robot along a specific path b) it allows us to develop obstacle avoidance algorithms.\n",
    "\n",
    "There are several methods for executing end-effector trajectories. In this laboratory we will explore a couple of them, starting from the most naive to more advanced ones."
   ]
  },
  {
   "cell_type": "markdown",
   "metadata": {},
   "source": [
    "# Single joint trajectories\n",
    "\n",
    "A trajectory is a set of poses (path) with a time component. Remember that a pose defines both the position and the orientation of a body in space. For now, we will deal with position and orientation together, but later on we will see that we need to do different calculations for each component of pose.\n",
    "\n",
    "Since we want to control the position of the end-effector, we need to first have calculated the inverse kinematics model of the robot. If we know the inverse kinematics model, then we can control the joint coordinates so that the end-effector moves along the points of the trajectory.\n",
    "\n",
    "\\begin{equation}\n",
    "    f(P) \\rightarrow q\n",
    "\\end{equation}\n",
    "\n",
    "Suppose that we want to move the end-effector of a robot to move from pose S to point E in space. We would need to firstly calculate the joint coordinates for the start and end position, using the inverse kinematics\n",
    "\n",
    "\\begin{equation}\n",
    "    f(P_{s}) \\rightarrow q_{s}\\\\\n",
    "    f(P_{e}) \\rightarrow q_{e}\n",
    "\\end{equation}\n",
    "\n",
    "Remember that $q_s$ and $q_e$ are vectors, having one element for each joint. Therefore, if we want to move the from pose S to pose E, we need to change the joint coordinates from values $q_s$ to the values of $q_e$. There are two main ways of doing this, either using the maximum velocity of each joint, or using the mimimum velocity of all the joints.\n",
    "\n",
    "## Interpolation basics\n",
    "\n",
    "In this case, each joint moves individually with its maximum velocity. This will ensure the fastest possible transition from pose S to pose E, as each joint will move to its target coordinate the fastest possible. This means that some joints might finish executing their motion faster than others, based on their maximum velocity and how much distance they need to cover.\n",
    "\n",
    "\\begin{equation}\n",
    "    q_{1s} \\rightarrow q_{1e}\\\\\n",
    "    q_{2s} \\rightarrow q_{2e}\\\\\n",
    "    \\vdots \\\\\n",
    "    q_{ns} \\rightarrow q_{ne}\n",
    "\\end{equation}\n",
    "\n",
    "The process of changing smoothly a variable from an initial value to a final value over time, is called _interpolation_ and it can be achieved using the following equation:\n",
    "\n",
    "\\begin{equation}\n",
    "  q(t) = (1-s(t))q_s+s(t)q_e\n",
    "\\end{equation}\n",
    "\n",
    "Where $q(t)$ is the interpolated value of the joint coordinate over time, $q_s$ and $q_e$ are the starting and ending joint coordinates, and $s(t)$ is a function that varies from 0 to 1 monotonously over time. This means that $s(0) = 0$, $s(T) = 1$, and it has values between 0 and 1 for the time in between. Based on the form of $s(t)$ we can achieve different types of interpolations."
   ]
  },
  {
   "cell_type": "markdown",
   "metadata": {},
   "source": [
    "### Linear interpolation\n",
    "\n",
    "The most basic form of interpolation is _linear interpolation_ and can be achieved if $s(t)$ is a linear function. For example, if want to achieve a motion from $q_s = 1$ to $q_e = 5$ in 8 seconds, then $s(t) = \\frac{1}{8}t$, since $s(0) = 0$ and $s(8) = 1$. This means that:\n",
    "\n",
    "\\begin{equation}\n",
    "    q(0) = (1 - 0)q_s + 0q_e = q_s\\\\\n",
    "    q(8) = (1 - 1)q_s + 1q_e = q_e\n",
    "\\end{equation}\n",
    "\n",
    "The general equation for defining $s(t)$ would be:\n",
    "\n",
    "\\begin{equation}\n",
    "    s(t) = \\dfrac{t-t_s}{t_e-t_s}\n",
    "\\end{equation}\n",
    "\n",
    "Where $t_s$ and $t_e$ are the starting and ending time respectively. You can see a graphic representation of how the variable s and q look like over time, for various values of time duration, and starting and ending joint coordinates."
   ]
  },
  {
   "cell_type": "code",
   "execution_count": 1,
   "metadata": {
    "tags": []
   },
   "outputs": [
    {
     "data": {
      "application/vnd.jupyter.widget-view+json": {
       "model_id": "d2480b27866c4307af7d4ccfaabfd221",
       "version_major": 2,
       "version_minor": 0
      },
      "text/plain": [
       "interactive(children=(IntSlider(value=-90, description='qs', max=90, min=-90), IntSlider(value=0, description=…"
      ]
     },
     "metadata": {},
     "output_type": "display_data"
    },
    {
     "data": {
      "text/plain": [
       "<function __main__.linear_interpolation(qs=-90, qe=0, T=8)>"
      ]
     },
     "execution_count": 1,
     "metadata": {},
     "output_type": "execute_result"
    }
   ],
   "source": [
    "from lab_functions import *\n",
    "\n",
    "def linear_interpolation(qs=-90, qe=0, T=8):\n",
    "    steps = 20*T\n",
    "    time = np.linspace(0.01,T,steps)\n",
    "    s = time/T\n",
    "    ds = s/time\n",
    "    dds = ds-ds\n",
    "    q = (1-s)*qs+s*qe\n",
    "    dq = (1-ds)*qs+ds*qe\n",
    "    ddq = (1-dds)*qs+dds*qe\n",
    "    s.shape = (steps,1)\n",
    "    q.shape = (steps,1)\n",
    "    dq.shape = (steps,1)\n",
    "    ddq.shape = (steps,1)\n",
    "    plot_interpolation(time, s, q, dq, ddq, 'Linear interpolation', False)\n",
    "    \n",
    "    zers = np.asmatrix(np.zeros((time.shape[0], 1)))\n",
    "    qs = np.concatenate((zers, q, zers, zers, zers, zers), axis=1)\n",
    "    robot = rtb.models.URDF.UR5()\n",
    "    robot.plot(qs*3.131/180, \"swift\")\n",
    "    \n",
    "interact_manual(linear_interpolation, qs=(-90,90), qe=(-90,90), T=(1,10))"
   ]
  },
  {
   "cell_type": "markdown",
   "metadata": {},
   "source": [
    "The main disadvantage of linear interpolation is that it introduces discontiniouities in the first and second derivatives of the variable. This means that velocity and acceleration will need to change instanteounsly, which will introduce trouble for the controller."
   ]
  },
  {
   "cell_type": "markdown",
   "metadata": {},
   "source": [
    "### Polynomial interpolation\n",
    "\n",
    "To alleviate the problems of discontiniouities in the velocity and acceleration, we can perform more complex forms of interpolation, namely with a polynomial instead of a linear function. We can choose the order of the polynomial to our needs, but if we want to ensure continiouity in the first and second derivaties at the beginning and the end of the trajectory, then we need at least a 5th order polynomial. This polynomial would look like this:\n",
    "\n",
    "\\begin{equation}\n",
    "  s(t) = At^5 + Bt^4 + Ct^3 + Dt^2 + Et + F, t \\in [0,T]\n",
    "\\end{equation}\n",
    "\n",
    "To ensure continiouity, we can define the following boundary conditions, that define the six coefficients of the polynomial.\n",
    "\n",
    "\\begin{equation}\n",
    "  s(0) = q_s \\\\\n",
    "  s(T) = q_e \\\\ \n",
    "  \\dot{s}(0) = 0 \\\\\n",
    "  \\dot{s}(T) = 0 \\\\\n",
    "  \\ddot{s}(0) = 0 \\\\\n",
    "  \\ddot{s}(T) = 0 \\\\\n",
    "\\end{equation}\n",
    "\n",
    "Knowning that:\n",
    "\n",
    "\\begin{equation}\n",
    "  \\dot{s} = 5As^4 + 4Bs^3 + 3Cs^2 + 2Ds + E \\\\\n",
    "  \\ddot{s} = 20As^3 + 12Bs^2 + 6Cs + 2D\n",
    "\\end{equation}\n",
    "\n",
    "We can of course define different starting and ending velocities and accelerations. Using these boundary conditions, we end up with a system of six equations with six unknowns, that can be expressed in algebraic form like this:\n",
    "\n",
    "\\begin{equation}\n",
    "\\left[ {\\begin{array}{*{20}c}\n",
    "   s(0)  \\\\\n",
    "   s(T)  \\\\\n",
    "   \\dot{s}(0)\\\\\n",
    "   \\dot{s}(T)\\\\\n",
    "   \\ddot{s}(0)\\\\\n",
    "   \\ddot{s}(T)\\\\\n",
    "\\end{array}}\n",
    "\\right] = \\left[ {\\begin{array}{*{20}c}\n",
    "   0   & 0   & 0   & 0   & 0  & 1 \\\\\n",
    "   T^5 & T^4 & T^3 & T^2 & T  & 1 \\\\\n",
    "   0   & 0   & 0   & 0   & 1  & 0 \\\\\n",
    "   5T^4& 4T^3& 3T^2& 2T  & 1  & 0 \\\\\n",
    "   0   & 0   & 0   & 2   & 0  & 0 \\\\\n",
    "   20T^3&12T^2&6T& 2  & 0  & 0 \\\\\n",
    "\\end{array}} \\right] \\left[ {\\begin{array}{*{20}c}\n",
    "   A  \\\\\n",
    "   B  \\\\\n",
    "   C  \\\\\n",
    "   D  \\\\\n",
    "   E  \\\\\n",
    "   F  \\\\\n",
    "\\end{array}}\n",
    "\\right]\n",
    "\\end{equation}\n",
    "\n",
    "This is a linear system of equations that can be easily solved by inverting the 6x6 matrix. Remember that we are looking for the coefficiencts A, B, C, D, E, and F for desired boundary conditions (velocity and acceleration at the beginning and the end of the trajectory). You can see a graphic representation of how the variable s and q look like over time, for various values of time duration, starting and ending joint coordinates, and boundary conditions."
   ]
  },
  {
   "cell_type": "code",
   "execution_count": 2,
   "metadata": {
    "tags": []
   },
   "outputs": [
    {
     "data": {
      "application/vnd.jupyter.widget-view+json": {
       "model_id": "e5df6c3c7bf84c1e9ff4403ca68495b9",
       "version_major": 2,
       "version_minor": 0
      },
      "text/plain": [
       "interactive(children=(IntSlider(value=-90, description='qs', max=90, min=-90), IntSlider(value=-20, descriptio…"
      ]
     },
     "metadata": {},
     "output_type": "display_data"
    },
    {
     "data": {
      "text/plain": [
       "<function __main__.polynomial_interpolation(qs=-90, qe=-20, dss=0, dse=0, ddss=0, ddse=0, T=8)>"
      ]
     },
     "execution_count": 2,
     "metadata": {},
     "output_type": "execute_result"
    }
   ],
   "source": [
    "from lab_functions import *\n",
    "\n",
    "def polynomial_interpolation(qs=-90, qe=-20, dss=0, dse=0, ddss=0, ddse=0, T=8):\n",
    "    steps = 20*T\n",
    "    time = np.linspace(0,T,steps)\n",
    "    A = np.array([[0,0,0,0,0,1],[T**5, T**4, T**3,T**2, T, 1],[0,0,0,0,1,0],[5*T**4,4*T**3,3*T**2,2*T,1,0],[0,0,0,2,0,0],[20*T**3,12*T**2,6*T,2,0,0]])\n",
    "    inpt = np.array([0,1,dss,dse,ddss,ddse])\n",
    "    inpt.shape = (6,1)\n",
    "    sol = np.linalg.inv(A).dot(inpt)\n",
    "    timed = np.array((np.power(time,5),np.power(time,4),np.power(time,3),np.power(time,2),time,np.ones((steps,))))\n",
    "    s = sol[0]*timed[0]+sol[1]*timed[1]+sol[2]*timed[2]+sol[3]*timed[3]+sol[4]*timed[4]+sol[5]*timed[5]\n",
    "    ds = 5*sol[0]*timed[1]+4*sol[1]*timed[2]+3*sol[2]*timed[3]+2*sol[3]*timed[4]+sol[4]\n",
    "    dds = 20*sol[0]*timed[2]+12*sol[1]*timed[3]+6*sol[2]*timed[4]+2*sol[3]\n",
    "    q = (1-s)*qs+s*qe\n",
    "    dq = (1-ds)*qs+ds*qe\n",
    "    ddq = (1-dds)*qs+dds*qe\n",
    "    s.shape = (steps,1)\n",
    "    q.shape = (steps,1)\n",
    "    dq.shape = (steps,1)\n",
    "    ddq.shape = (steps,1)\n",
    "    plot_interpolation(time, s, q, dq, ddq, 'Polynomial interpolation', True)\n",
    "    \n",
    "    zers = np.asmatrix(np.zeros((time.shape[0], 1)))\n",
    "    qs = np.concatenate((zers, q, zers, zers, zers, zers), axis=1)\n",
    "    robot = rtb.models.URDF.UR5()\n",
    "    robot.plot(qs*3.131/180, \"swift\")\n",
    "    \n",
    "interact_manual(polynomial_interpolation, qs=(-90,90), qe=(-90,90), dss=(-2,2,0.1), dse=(-2,2,0.1), ddss=(-2,2,0.01), ddse=(-2,2,0.01), T=(1,10))"
   ]
  },
  {
   "cell_type": "markdown",
   "metadata": {},
   "source": [
    "Obviously, we can do the same thing for two or more joints. We just need to decide on the boundary conditions of each joint and calculate its own trajectory"
   ]
  },
  {
   "cell_type": "code",
   "execution_count": 3,
   "metadata": {
    "scrolled": true,
    "tags": []
   },
   "outputs": [
    {
     "data": {
      "application/vnd.jupyter.widget-view+json": {
       "model_id": "079fe914de79462a87898415874aa3c3",
       "version_major": 2,
       "version_minor": 0
      },
      "text/plain": [
       "interactive(children=(IntSlider(value=0, description='qs', max=90, min=-90), IntSlider(value=70, description='…"
      ]
     },
     "metadata": {},
     "output_type": "display_data"
    },
    {
     "data": {
      "text/plain": [
       "<function __main__.polynomial_interpolation(qs=0, qe=70, dss=0, dse=0, ddss=0, ddse=0, T=8)>"
      ]
     },
     "execution_count": 3,
     "metadata": {},
     "output_type": "execute_result"
    }
   ],
   "source": [
    "from lab_functions import *\n",
    "\n",
    "def polynomial_interpolation(qs=0, qe=70, dss=0, dse=0, ddss=0, ddse=0, T=8):\n",
    "    steps = 20*T\n",
    "    time = np.linspace(0,T,steps)\n",
    "    timed = np.array((np.power(time,5),np.power(time,4),np.power(time,3),np.power(time,2),time,np.ones((steps,))))\n",
    "    A = np.array([[0,0,0,0,0,1],[T**5, T**4, T**3,T**2, T, 1],[0,0,0,0,1,0],[5*T**4,4*T**3,3*T**2,2*T,1,0],[0,0,0,2,0,0],[20*T**3,12*T**2,6*T,2,0,0]])\n",
    "    inpt1 = np.array([0,1,0,0,0,0])\n",
    "    inpt1.shape = (6,1)\n",
    "    sol1 = np.linalg.inv(A).dot(inpt1)\n",
    "    s1 = sol1[0]*timed[0]+sol1[1]*timed[1]+sol1[2]*timed[2]+sol1[3]*timed[3]+sol1[4]*timed[4]+sol1[5]*timed[5]\n",
    "    q1 = (1-s1)*-90-s1*20\n",
    "    \n",
    "    inpt = np.array([0,1,dss,dse,ddss,ddse])\n",
    "    inpt.shape = (6,1)\n",
    "    sol = np.linalg.inv(A).dot(inpt)\n",
    "    s = sol[0]*timed[0]+sol[1]*timed[1]+sol[2]*timed[2]+sol[3]*timed[3]+sol[4]*timed[4]+sol[5]*timed[5]\n",
    "    q = (1-s)*qs+s*qe\n",
    "    \n",
    "    q.shape = (steps,1)\n",
    "    q1.shape = (steps,1)\n",
    "    \n",
    "    zers = np.asmatrix(np.zeros((time.shape[0], 1)))\n",
    "    qs = np.concatenate((zers, q1, -q, zers, zers, zers), axis=1)\n",
    "    print(qs)\n",
    "    robot = rtb.models.URDF.UR5()\n",
    "    robot.plot(qs*3.131/180, \"swift\")\n",
    "    \n",
    "interact_manual(polynomial_interpolation, qs=(-90,90), qe=(-90,90), dss=(-2,2,0.1), dse=(-2,2,0.1), ddss=(-2,2,0.01), ddse=(-2,2,0.01), T=(1,10))"
   ]
  },
  {
   "cell_type": "markdown",
   "metadata": {},
   "source": [
    "# End effector trajectories\n",
    "\n",
    "Controlling each individual joint is not by itself very useful, as we are usually interested to control the end-effector pose. As we know from inverse kinematics we can calculate the joint coordinates required to achieve a certain pose, depending always on the degrees of freedom of our robotic arm. Therefore, if we can calculate a trajectory for the end-effector, then we can calculate the required joint coordinates for achieving the trajectory using inverse kinematics. In order to produce once again smooth transitions in pose, we will need to interpolate from a starting to an ending position. We will decompose the interpolation of pose into two parts: position and orientation\n",
    "\n",
    "## Interpolating position\n",
    "\n",
    "Interpolating the position is rather straight-forward, as we can interpolate each one of the components of the position vector ($X$, $Y$, and $Z$ coordinates) from the beginning to the end-position. If we want to ensure smooth motion without jerk, we should once again apply a polynomial interpolation to each coordinate individually.\n",
    "\n",
    "\\begin{equation}\n",
    "  P_x(0) \\rightarrow P_x(T)\\\\\n",
    "  P_y(0) \\rightarrow P_y(T)\\\\\n",
    "  P_z(0) \\rightarrow P_z(T)\\\\\n",
    "\\end{equation}"
   ]
  },
  {
   "cell_type": "code",
   "execution_count": 4,
   "metadata": {
    "tags": []
   },
   "outputs": [
    {
     "data": {
      "application/vnd.jupyter.widget-view+json": {
       "model_id": "28014c0042814fdaaae22c5b81a258f0",
       "version_major": 2,
       "version_minor": 0
      },
      "text/plain": [
       "interactive(children=(IntSlider(value=0, description='xs', max=90), IntSlider(value=20, description='xe', max=…"
      ]
     },
     "metadata": {},
     "output_type": "display_data"
    },
    {
     "data": {
      "text/plain": [
       "<function __main__.threed_interpolation(xs=0, xe=20, ys=0, ye=30, zs=0, ze=10, T=8)>"
      ]
     },
     "execution_count": 4,
     "metadata": {},
     "output_type": "execute_result"
    }
   ],
   "source": [
    "from lab_functions import *\n",
    "\n",
    "def threed_interpolation(xs=0, xe=20, ys=0, ye=30, zs=0, ze=10, T=8):\n",
    "    dss, dse, ddss, ddse = 0,0,0,0\n",
    "    steps = 20*T\n",
    "    time = np.linspace(0,T,steps)\n",
    "    timed = np.array((np.power(time,5),np.power(time,4),np.power(time,3),np.power(time,2),time,np.ones((steps,))))\n",
    "    A = np.array([[0,0,0,0,0,1],[T**5, T**4, T**3,T**2, T, 1],[0,0,0,0,1,0],[5*T**4,4*T**3,3*T**2,2*T,1,0],[0,0,0,2,0,0],[20*T**3,12*T**2,6*T,2,0,0]])  \n",
    "    inpt = np.array([0,1,dss,dse,ddss,ddse])\n",
    "    inpt.shape = (6,1)\n",
    "    sol = np.linalg.inv(A).dot(inpt)\n",
    "    s = sol[0]*timed[0]+sol[1]*timed[1]+sol[2]*timed[2]+sol[3]*timed[3]+sol[4]*timed[4]+sol[5]*timed[5]\n",
    "    x = (1-s)*xs+s*xe\n",
    "    y = (1-s)*ys+s*ye\n",
    "    z = (1-s)*zs+s*ze\n",
    "    \n",
    "    x.shape = (steps,1)\n",
    "    y.shape = (steps,1)\n",
    "    z.shape = (steps,1)\n",
    "    \n",
    "    plot_car_interpolation(time, x, y, z, '3D interpolation')\n",
    "    \n",
    "interact_manual(threed_interpolation, xs=(0,90), xe=(-90,90), ys=(-2,2,0.1), ye=(-2,2,0.1), zs=(-2,2,0.01), ze=(-2,2,0.01), T=(1,10))"
   ]
  },
  {
   "cell_type": "markdown",
   "metadata": {},
   "source": [
    "Now that we have a cartesian trajectory, we can generate the joint trajectories by solving the inverse kinematics model for each step of the trajectory."
   ]
  },
  {
   "cell_type": "code",
   "execution_count": 5,
   "metadata": {
    "tags": []
   },
   "outputs": [
    {
     "data": {
      "application/vnd.jupyter.widget-view+json": {
       "model_id": "e7ba2c43eaa3413280375bcbd7b6df6c",
       "version_major": 2,
       "version_minor": 0
      },
      "text/plain": [
       "interactive(children=(FloatSlider(value=0.6, description='xs', max=0.9, min=-0.9), FloatSlider(value=0.5, desc…"
      ]
     },
     "metadata": {},
     "output_type": "display_data"
    },
    {
     "data": {
      "text/plain": [
       "<function __main__.eef_translation(xs=0.6, xe=0.5, ys=0.2, ye=0.4, zs=0.3, ze=0.4, T=8)>"
      ]
     },
     "execution_count": 5,
     "metadata": {},
     "output_type": "execute_result"
    }
   ],
   "source": [
    "from lab_functions import *\n",
    "\n",
    "def eef_translation(xs=0.6, xe=0.5, ys=0.2, ye=0.4, zs=0.3, ze=0.4, T=8):\n",
    "    dss, dse, ddss, ddse = 0,0,0,0\n",
    "    steps = 20*T\n",
    "    time = np.linspace(0,T,steps)\n",
    "    timed = np.array((np.power(time,5),np.power(time,4),np.power(time,3),np.power(time,2),time,np.ones((steps,))))\n",
    "    A = np.array([[0,0,0,0,0,1],[T**5, T**4, T**3,T**2, T, 1],[0,0,0,0,1,0],[5*T**4,4*T**3,3*T**2,2*T,1,0],[0,0,0,2,0,0],[20*T**3,12*T**2,6*T,2,0,0]])  \n",
    "    inpt = np.array([0,1,dss,dse,ddss,ddse])\n",
    "    inpt.shape = (6,1)\n",
    "    sol = np.linalg.inv(A).dot(inpt)\n",
    "    s = sol[0]*timed[0]+sol[1]*timed[1]+sol[2]*timed[2]+sol[3]*timed[3]+sol[4]*timed[4]+sol[5]*timed[5]\n",
    "    x = (1-s)*xs+s*xe\n",
    "    y = (1-s)*ys+s*ye\n",
    "    z = (1-s)*zs+s*ze\n",
    "    \n",
    "    x.shape = (steps,1)\n",
    "    y.shape = (steps,1)\n",
    "    z.shape = (steps,1)\n",
    "    \n",
    "    robot = rtb.models.URDF.UR5()\n",
    "    qs = np.zeros((steps,6))\n",
    "    for i in range(steps):\n",
    "        setpoint = SE3(x[i,0],y[i,0],z[i,0])*SE3.Rx(180,'deg')*SE3.Rz(-90,'deg')\n",
    "        if i == 0:\n",
    "            qs[i,:] = robot.ikine_LM(setpoint).q\n",
    "        else:\n",
    "            qs[i,:] = robot.ikine_LM(setpoint, q0=qs[max(i-1,0),:]).q\n",
    "\n",
    "    robot.plot(qs, \"swift\")\n",
    "    \n",
    "    plot_car_interpolation(time, x, y, z, 'Cartesian space interpolation')\n",
    "    plot_joint_interpolation(time, qs[:,0], qs[:,1], qs[:,2], qs[:,3], qs[:,4], qs[:,5], 'Joint space interpolation')\n",
    "\n",
    "interact_manual(eef_translation, xs=(-0.9,0.9), xe=(-0.9,0.9), ys=(-0.9,0.9), ye=(-0.9,0.9), zs=(-0.9,0.9), ze=(-0.9,0.9), T=(1,10))"
   ]
  },
  {
   "cell_type": "markdown",
   "metadata": {},
   "source": [
    "## Interpolating orientation\n",
    "\n",
    "Orientation is more complicated to interpolate, as its components cannot be interpolated independently of each other when written in a matrix form. This is because the numbers of the transformation matrix are not all independent from each other, and each column represents a unit vector. As such, we cannot interpolate the numbers from our starting orientation toward the ending orientation, since the interpolated values are not guaranteed to form unit vectors. Consider the following simple example of interpolating from one unit vector to another:\n",
    "\n",
    "\\begin{equation}\n",
    "  \\left[ {\\begin{array}{*{20}c}\n",
    "   0  \\\\\n",
    "   0  \\\\\n",
    "   1\n",
    "\\end{array}}\n",
    "\\right] \\rightarrow\n",
    "\\left[ {\\begin{array}{*{20}c}\n",
    "   1  \\\\\n",
    "   0  \\\\\n",
    "   0\n",
    "\\end{array}}\n",
    "\\right]\n",
    "\\end{equation}\n",
    "\n",
    "if we interpolate each component individually, at some point we will end up with vector:\n",
    "\n",
    "\\begin{equation}\n",
    "\\left[ {\\begin{array}{*{20}c}\n",
    "   0.5  \\\\\n",
    "   0  \\\\\n",
    "   0.5\n",
    "\\end{array}}\n",
    "\\right]\n",
    "\\end{equation}\n",
    "\n",
    "which is not a unit vector!\n",
    "\n",
    "Therefore, for interpolating orientation, we need to break the matrix down to its components. As we have seen in the transformations laboratory, there are different ways to express orientation. If we use the Euler angle representation, then we can interpolate the components individually and end up with a smooth transition from one orientation to another one."
   ]
  },
  {
   "cell_type": "code",
   "execution_count": 6,
   "metadata": {
    "tags": []
   },
   "outputs": [
    {
     "data": {
      "application/vnd.jupyter.widget-view+json": {
       "model_id": "086b0d4b698c44269786736e1c7d6955",
       "version_major": 2,
       "version_minor": 0
      },
      "text/plain": [
       "interactive(children=(IntSlider(value=145, description='rs', max=180, min=-180), IntSlider(value=180, descript…"
      ]
     },
     "metadata": {},
     "output_type": "display_data"
    },
    {
     "data": {
      "text/plain": [
       "<function __main__.eef_pose(rs=145, re=180, ps=110, pe=40, yas=50, yae=90, xs=0.2, xe=0.4, ys=0.2, ye=0.4, zs=0.2, ze=0.4, T=8)>"
      ]
     },
     "execution_count": 6,
     "metadata": {},
     "output_type": "execute_result"
    }
   ],
   "source": [
    "from lab_functions import *\n",
    "\n",
    "def eef_pose(rs=145, re=180, ps=110, pe=40, yas=50, yae=90, xs=0.2, xe=0.4, ys=0.2, ye=0.4, zs=0.2, ze=0.4, T=8):\n",
    "    dss, dse, ddss, ddse = 0,0,0,0\n",
    "    steps = 20*T\n",
    "    time = np.linspace(0,T,steps)\n",
    "    timed = np.array((np.power(time,5),np.power(time,4),np.power(time,3),np.power(time,2),time,np.ones((steps,))))\n",
    "    A = np.array([[0,0,0,0,0,1],[T**5, T**4, T**3,T**2, T, 1],[0,0,0,0,1,0],[5*T**4,4*T**3,3*T**2,2*T,1,0],[0,0,0,2,0,0],[20*T**3,12*T**2,6*T,2,0,0]])  \n",
    "    inpt = np.array([0,1,dss,dse,ddss,ddse])\n",
    "    inpt.shape = (6,1)\n",
    "    sol = np.linalg.inv(A).dot(inpt)\n",
    "    s = sol[0]*timed[0]+sol[1]*timed[1]+sol[2]*timed[2]+sol[3]*timed[3]+sol[4]*timed[4]+sol[5]*timed[5]\n",
    "    x = (1-s)*xs+s*xe\n",
    "    y = (1-s)*ys+s*ye\n",
    "    z = (1-s)*zs+s*ze\n",
    "    r = ((1-s)*rs+s*re)\n",
    "    p = ((1-s)*ps+s*pe)\n",
    "    ya = ((1-s)*yas+s*yae)\n",
    "    \n",
    "    x.shape = (steps,1)\n",
    "    y.shape = (steps,1)\n",
    "    z.shape = (steps,1)\n",
    "    r.shape = (steps,1)\n",
    "    p.shape = (steps,1)\n",
    "    ya.shape = (steps,1)\n",
    "    \n",
    "    robot = rtb.models.URDF.UR5()\n",
    "    qs = np.zeros((steps,6))\n",
    "    for i in range(steps):\n",
    "        setpoint = SE3(x[i,0],y[i,0],z[i,0])*SE3.RPY([r[i,0],p[i,0],ya[i,0]], unit='deg')\n",
    "        qs[i,:] = robot.ikine_LM(setpoint, q0=qs[max(i-1,0),:]).q\n",
    "\n",
    "    robot.plot(qs, \"swift\")\n",
    "    \n",
    "    plot_car_interpolation(time, x, y, z, 'Cartesian space interpolation')\n",
    "    plot_joint_interpolation(time, qs[:,0], qs[:,1], qs[:,2], qs[:,3], qs[:,4], qs[:,5], 'Joint space interpolation')\n",
    "\n",
    "interact_manual(eef_pose, rs=(-180,180), re=(-180,180), ps=(-180,180), pe=(-180,180), yas=(-180,180), yae=(-180,180), xs=(-0.9,0.9), xe=(-0.9,0.9), ys=(-0.9,0.9), ye=(-0.9,0.9), zs=(-0.9,0.9), ze=(-0.9,0.9), T=(1,10))"
   ]
  },
  {
   "cell_type": "markdown",
   "metadata": {},
   "source": [
    "Similarly, we can use quaternions as well, which can be interpolated as well. Using quaternions avoids problems with 'gimbal lock' (loss of one or more degrees of freedom), and produce a shorter path interpolation than Euler angles.\n",
    "\n",
    "Quaternions can be interpolated using the [SLERP](https://en.wikipedia.org/wiki/Slerp) method (**S**pherical **L**inear int**ERP**olation), which is implemented in the [SciPy](https://docs.scipy.org/doc/scipy/reference/generated/scipy.spatial.transform.Slerp.html) library of Python. The procedure for performing the interpolation is the same as with the previous cases: Choose initial and final orientation, calculate the interpolation polynomial, interpolate the value of the angles at the timesteps of the polynomial (using SLERP).\n",
    "\n",
    "Below, you can see a basic example of how to use SLERP for interpolating between two orientations using SLERP."
   ]
  },
  {
   "cell_type": "code",
   "execution_count": 7,
   "metadata": {
    "tags": []
   },
   "outputs": [
    {
     "data": {
      "application/vnd.jupyter.widget-view+json": {
       "model_id": "417834216d24478abf2ca4dc351b45f9",
       "version_major": 2,
       "version_minor": 0
      },
      "text/plain": [
       "interactive(children=(IntSlider(value=180, description='rs', max=180, min=-180), IntSlider(value=-20, descript…"
      ]
     },
     "metadata": {},
     "output_type": "display_data"
    },
    {
     "data": {
      "text/plain": [
       "<function __main__.quat_vs_eul(rs=180, re=-20, ys=20, ye=180, T=8, quaternions=True)>"
      ]
     },
     "execution_count": 7,
     "metadata": {},
     "output_type": "execute_result"
    }
   ],
   "source": [
    "from scipy.spatial.transform import Slerp\n",
    "from lab_functions import *\n",
    "\n",
    "def quat_vs_eul(rs=180, re=-20, ys=20, ye=180, T=8, quaternions=True):\n",
    "    # It is easier if we create a quaternion from a known transformation matrix (or euler angles).\n",
    "    init_q = r2q(rotz(ys, 'deg')@rotx(rs, 'deg'))\n",
    "    final_q = r2q(rotz(ye, 'deg')@rotx(re, 'deg'))\n",
    "\n",
    "    # Constructing interpolator s using polynomial\n",
    "    T = 8 # Total time\n",
    "    dss, dse, ddss, ddse = 0,0,0,0 # Starting and ending velocity and acceleration\n",
    "    steps = 20*T\n",
    "    time = np.linspace(0,T,steps)\n",
    "    timed = np.array((np.power(time,5),np.power(time,4),np.power(time,3),np.power(time,2),time,np.ones((steps,))))\n",
    "    A = np.array([[0,0,0,0,0,1],[T**5, T**4, T**3,T**2, T, 1],[0,0,0,0,1,0],[5*T**4,4*T**3,3*T**2,2*T,1,0],[0,0,0,2,0,0],[20*T**3,12*T**2,6*T,2,0,0]])  \n",
    "    inpt = np.array([0,1,dss,dse,ddss,ddse]).reshape(6,1)\n",
    "    sol = np.linalg.inv(A).dot(inpt)\n",
    "    s = sol[0]*timed[0]+sol[1]*timed[1]+sol[2]*timed[2]+sol[3]*timed[3]+sol[4]*timed[4]+sol[5]*timed[5]\n",
    "\n",
    "    quat = np.zeros((4,steps))\n",
    "    # Interpolating in Quaternion space\n",
    "    for i in range(steps):\n",
    "        quat[:,i] = qslerp(init_q, final_q, s=s[i], shortest=True)\n",
    "    \n",
    "    # Interpolating in Euler space\n",
    "    r = ((1-s)*rs+s*re)\n",
    "    y = ((1-s)*ys+s*ye)\n",
    "    \n",
    "    robot = rtb.models.URDF.UR5()\n",
    "    qs = np.zeros((steps,6))\n",
    "    for i in range(steps):\n",
    "        if quaternions:\n",
    "            setpoint = SE3(0.1,0.2,0.5)*SE3.Rt(q2r(quat[:,i]))\n",
    "        else:\n",
    "            setpoint = SE3(0.1,0.2,0.5)*SE3.RPY([r[i],0,y[i]], unit='deg', order='zyx')\n",
    "        qs[i,:] = robot.ikine_LM(setpoint, q0=qs[max(i-1,0),:]).q\n",
    "    \n",
    "    robot.plot(qs, \"swift\")\n",
    "    \n",
    "interact_manual(quat_vs_eul, rs=(-180,180), re=(-180,180), ys=(-180,180), ye=(-180,180), T=(1,10))"
   ]
  },
  {
   "cell_type": "markdown",
   "metadata": {},
   "source": [
    "# Robotics Toolbox\n",
    "\n",
    "The toolbox allows us to construct trajectories between two poses, using the __ctraj__ method. Simply give as input the initial and final pose, and the number of steps in between, and the toolbox will calculate the poses in between. If we then need to move our robot along the desired trajectory, we need to solve the inverse kinematics for each individual pose calculated. In order to minimize the time required, for each call of ikine, we can give the solution of the previous step as an initial guess for the numerical optimization. This is what is demonstrated in the example below"
   ]
  },
  {
   "cell_type": "code",
   "execution_count": null,
   "metadata": {
    "tags": []
   },
   "outputs": [],
   "source": [
    "from lab_functions import *\n",
    "\n",
    "# We define starting and ending poses\n",
    "T1  = SE3(0.3,0.2,0.3)@SE3.RPY(180,0,90, unit='deg')\n",
    "T2  = SE3(0.5,0.3,0.5)@SE3.RPY(110,20,70, unit='deg')\n",
    "steps = 100\n",
    "tr = rtb.ctraj(T1,T2,steps) # tr is a collection of cartesian poses of size 'steps'\n",
    "\n",
    "# We load our robot from the toolbox\n",
    "robot = rtb.models.URDF.UR5()\n",
    "\n",
    "# We solve the inverse kinematics for the target poses\n",
    "sol = robot.ikine_LM(tr)\n",
    "\n",
    "# Animating the trajectory\n",
    "robot.plot(sol.q)"
   ]
  },
  {
   "cell_type": "markdown",
   "metadata": {},
   "source": [
    "# Assignment\n",
    "\n",
    "## AL5D robot\n",
    "\n",
    "Using the code you constructed for the simulation above, implement a trajectory following for the AL5D robot for the following starting and ending poses\n",
    "    \n",
    "|Coord|Initial|Final|\n",
    "|-|-|-|\n",
    "|<td colspan=3>Position<td colspan=2>\n",
    "|X|0.16|0.18|\n",
    "|Y|0.22|-0.18|\n",
    "|Z|0.09|0.13|\n",
    "|<td colspan=3>Orientation (Euler 'zyx' angles) <td colspan=2>\n",
    "|roll|0|0|\n",
    "|pitch|20|-90|\n",
    "|yaw|0|10|\n",
    "    \n",
    "Compare the results between Euler and Quaternion interpolation"
   ]
  },
  {
   "cell_type": "code",
   "execution_count": 9,
   "metadata": {},
   "outputs": [
    {
     "name": "stdout",
     "output_type": "stream",
     "text": [
      "No device connected on  /dev/ttyUSB0\n",
      "No device connected on  /dev/ttyUSB1\n",
      "No device connected on  COM1\n",
      "No device connected on  COM2\n",
      "No device connected on  COM3\n",
      "No device connected on  COM4\n",
      "No device connected on  COM5\n",
      "No device connected on  COM6\n",
      "No device connected on  COM7\n",
      "No device connected on  COM8\n",
      "No device connected on  COM9\n",
      "Robot could not connect to any ports, restart kernel and try again\n"
     ]
    }
   ],
   "source": [
    "from lab_functions import *\n",
    "from al5d_control import *\n",
    "from time import sleep\n",
    "\n",
    "# for sending the commands\n",
    "rrob = AL5DControl()\n",
    "\n",
    "rs = 0\n",
    "re = 0\n",
    "ps = -20\n",
    "pe = -90\n",
    "yas = 0\n",
    "yae = 10\n",
    "xs = 0.16\n",
    "xe = 0.18\n",
    "ys = 0.22\n",
    "ye = -0.18\n",
    "zs = 0.09\n",
    "ze = 0.13\n",
    "T = 8\n",
    "\n",
    "dss, dse, ddss, ddse = 0,0,0,0\n",
    "steps = 20*T\n",
    "time = np.linspace(0,T,steps)\n",
    "timed = np.array((np.power(time,5),np.power(time,4),np.power(time,3),np.power(time,2),time,np.ones((steps,))))\n",
    "A = np.array([[0,0,0,0,0,1],[T**5, T**4, T**3,T**2, T, 1],[0,0,0,0,1,0],[5*T**4,4*T**3,3*T**2,2*T,1,0],[0,0,0,2,0,0],[20*T**3,12*T**2,6*T,2,0,0]])  \n",
    "inpt = np.array([0,1,dss,dse,ddss,ddse])\n",
    "inpt.shape = (6,1)\n",
    "sol = np.linalg.inv(A).dot(inpt)\n",
    "s = sol[0]*timed[0]+sol[1]*timed[1]+sol[2]*timed[2]+sol[3]*timed[3]+sol[4]*timed[4]+sol[5]*timed[5]\n",
    "\n",
    "x = (1-s)*xs+s*xe\n",
    "y = (1-s)*ys+s*ye\n",
    "z = (1-s)*zs+s*ze\n",
    "r = ((1-s)*rs+s*re)\n",
    "p = ((1-s)*ps+s*pe)\n",
    "ya = ((1-s)*yas+s*yae)\n",
    "    \n",
    "x.shape = (steps,1)\n",
    "y.shape = (steps,1)\n",
    "z.shape = (steps,1)\n",
    "r.shape = (steps,1)\n",
    "p.shape = (steps,1)\n",
    "ya.shape = (steps,1)"
   ]
  },
  {
   "cell_type": "code",
   "execution_count": 10,
   "metadata": {},
   "outputs": [
    {
     "data": {
      "text/plain": [
       "Swift backend, t = 7.99999999999998, scene:\n",
       "  AL5D_mdw"
      ]
     },
     "execution_count": 10,
     "metadata": {},
     "output_type": "execute_result"
    }
   ],
   "source": [
    "# Interpolating in Euler space\n",
    "robot = rtb.models.URDF.AL5D_mdw()\n",
    "    \n",
    "qs1 = np.zeros((steps,5))\n",
    "for i in range(steps):\n",
    "    setpoint = SE3(x[i,0],y[i,0],z[i,0])*SE3.RPY([r[i,0],p[i,0],ya[i,0]], unit='deg')\n",
    "    qs1[i,:] = robot.ikine_LM(setpoint, q0=qs1[max(i-1,0),:], mask=np.array([1,1,1,0,1,1])).q\n",
    "\n",
    "robot.plot(qs1, \"swift\")"
   ]
  },
  {
   "cell_type": "code",
   "execution_count": 11,
   "metadata": {},
   "outputs": [
    {
     "data": {
      "text/plain": [
       "Swift backend, t = 7.99999999999998, scene:\n",
       "  AL5D_mdw"
      ]
     },
     "execution_count": 11,
     "metadata": {},
     "output_type": "execute_result"
    }
   ],
   "source": [
    "# Interpolating in Quaternion space\n",
    "robot = rtb.models.URDF.AL5D_mdw()\n",
    "\n",
    "init_q = r2q(rotz(yas, 'deg')@roty(ps, 'deg')@rotx(rs, 'deg'))\n",
    "final_q = r2q(rotz(yae, 'deg')@roty(pe, 'deg')@rotx(re, 'deg'))\n",
    "\n",
    "quat = np.zeros((4,steps))\n",
    "for i in range(steps):\n",
    "    quat[:,i] = qslerp(init_q, final_q, s=s[i], shortest=True)\n",
    "    \n",
    "qs2 = np.zeros((steps,5))\n",
    "for i in range(steps):\n",
    "    setpoint = SE3(x[i,0],y[i,0],z[i,0])*SE3.Rt(q2r(quat[:,i]))\n",
    "    qs2[i,:] = robot.ikine_LM(setpoint, q0=qs2[max(i-1,0),:], mask=np.array([1,1,1,0,1,1])).q\n",
    "    \n",
    "robot.plot(qs2, \"swift\")"
   ]
  },
  {
   "cell_type": "code",
   "execution_count": null,
   "metadata": {},
   "outputs": [],
   "source": [
    "# Solve the ikine for the respective interpolated poses\n",
    "# The solution will be in radians!\n",
    "\n",
    "# Control the robot to go to each pose using the robot_control function\n",
    "# Give degrees as input for the joint values\n",
    "for i in range(steps):\n",
    "    rrob.robot_control(*np.rad2deg(qs[i,0]),*np.rad2deg(qs[i,1]),*np.rad2deg(qs[i,2]),*np.rad2deg(qs[i,3]),*np.rad2deg(qs[i,4]),*np.rad2deg(qs[i,5]),0)\n",
    "    time.sleep(0.1)"
   ]
  }
 ],
 "metadata": {
  "kernelspec": {
   "display_name": "Python 3 (ipykernel)",
   "language": "python",
   "name": "python3"
  },
  "language_info": {
   "codemirror_mode": {
    "name": "ipython",
    "version": 3
   },
   "file_extension": ".py",
   "mimetype": "text/x-python",
   "name": "python",
   "nbconvert_exporter": "python",
   "pygments_lexer": "ipython3",
   "version": "3.9.13"
  },
  "varInspector": {
   "cols": {
    "lenName": 16,
    "lenType": 16,
    "lenVar": 40
   },
   "kernels_config": {
    "python": {
     "delete_cmd_postfix": "",
     "delete_cmd_prefix": "del ",
     "library": "var_list.py",
     "varRefreshCmd": "print(var_dic_list())"
    },
    "r": {
     "delete_cmd_postfix": ") ",
     "delete_cmd_prefix": "rm(",
     "library": "var_list.r",
     "varRefreshCmd": "cat(var_dic_list()) "
    }
   },
   "types_to_exclude": [
    "module",
    "function",
    "builtin_function_or_method",
    "instance",
    "_Feature"
   ],
   "window_display": false
  }
 },
 "nbformat": 4,
 "nbformat_minor": 4
}
