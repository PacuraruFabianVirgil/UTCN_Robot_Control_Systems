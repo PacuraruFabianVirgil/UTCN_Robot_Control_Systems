{
 "cells": [
  {
   "cell_type": "markdown",
   "metadata": {},
   "source": [
    "# Laboratory 1"
   ]
  },
  {
   "cell_type": "markdown",
   "metadata": {},
   "source": [
    "## Coordinate systems. Geometrical transformations"
   ]
  },
  {
   "cell_type": "markdown",
   "metadata": {},
   "source": [
    "One of the fundamental necessities in robotics, is the localisation of objects in three\n",
    "dimensional space. These objects can be elements that compose the physical structure of\n",
    "a robot, parts and components that the robots manipulate, tools or in general any body\n",
    "that exists in the space of operation of the robot. (See figure 1.1).\n",
    "These objects can be described fundamentally with roughly two attributes: their position and orientation. An immediate aspect of interest would be how to represent these\n",
    "and, furthermore, how can we manipulate mathematically these properties"
   ]
  },
  {
   "cell_type": "markdown",
   "metadata": {},
   "source": [
    "<center>\n",
    "    <figure>\n",
    "    <img src=\"artwork/transformations/fig1-0.png\" width=30%/>\n",
    "    <figcaption><center>Figure 1.1: Coordinate systems in the space of operation of a robot</center></figcaption>\n",
    "</figure>\n",
    "</center>"
   ]
  },
  {
   "cell_type": "markdown",
   "metadata": {},
   "source": [
    "For the description of position and orientation of a solid in space, we will attach on it a rigid Cartesian coordinate system. Since any coordinate system can serve as a reference system on which we can express the position and orientation of a body, there is the question of how to change or transform these attributes of a body from a Cartesian system of reference to another one. This exercise presents conventions and methodology for the description of positions and orientations, as well as the mathematical formalisation that is used for the manipulation of these quantities in several coordinate systems.\n",
    "\n",
    "The manipulation using a robot assumes the fact that objects and tools will be displaced in space with the use of a mechanism. This fact determines the need to represent the position and orientation of such objects that we want to manipulate as well as the position of the mechanism of manipulation. To define and manipulate mathematically the quantities that represent the position and orientation it is necessary to define a coordinate system and the corresponding conventions used for their representation."
   ]
  },
  {
   "cell_type": "markdown",
   "metadata": {},
   "source": [
    "### 1.1 Cartesian coordinate systems\n"
   ]
  },
  {
   "cell_type": "markdown",
   "metadata": {},
   "source": [
    "In robotics, the _standard_ Cartesian system is obtained through the application of the\n",
    "rule of the right hand, that is presented in figure 1.2. The thumb of the right hand indicates\n",
    "the positive direction of the Z axis, and the extended fingers indicate the positive direction\n",
    "for the X axis. By flexing the fingers by 90◦\n",
    ", we are obtaining the positive direction for\n",
    "axis Y.\n",
    "For the definition of positive directions of rotations, we use again the rule of the right\n",
    "hand. When the thumb is pointing the positive direction of an axis, the rest of the fingers\n",
    "indicate the positive rotation around that axis. \n",
    "\n",
    "<center>\n",
    "    <figure class=\"image\">\n",
    "      <img src=\"artwork/transformations/R3-right_hand_rule.png\" width=30% />\n",
    "      <figcaption>1.2 Rule of the right hand</figcaption>\n",
    "    </figure>\n",
    "</center>\n"
   ]
  },
  {
   "cell_type": "markdown",
   "metadata": {},
   "source": [
    "Try changing the Z coordinates from the sliders to see how the other axes change. The sliders dictate how the Z axis behaves. The 3 directions are the 3 points in space that describe vector Z."
   ]
  },
  {
   "cell_type": "code",
   "execution_count": 1,
   "metadata": {
    "code_folding": [
     4
    ]
   },
   "outputs": [
    {
     "data": {
      "application/vnd.jupyter.widget-view+json": {
       "model_id": "68a7febc267a42658817f0b2e2bbbd6c",
       "version_major": 2,
       "version_minor": 0
      },
      "text/plain": [
       "interactive(children=(IntSlider(value=0, description='x', max=90, min=-90), IntSlider(value=0, description='y'…"
      ]
     },
     "metadata": {},
     "output_type": "display_data"
    },
    {
     "data": {
      "text/plain": [
       "<function __main__.showAxes(x=0, y=0, z=0)>"
      ]
     },
     "execution_count": 1,
     "metadata": {},
     "output_type": "execute_result"
    }
   ],
   "source": [
    "from ipywidgets import interact\n",
    "from spatialmath.base import *\n",
    "from lab_functions import plotAxes, setPlot\n",
    "\n",
    "def showAxes(x=0, y=0, z=0):\n",
    "    m = trotx(x*3.14/180)@troty(y*3.14/180)@trotz(z*3.14/180)\n",
    "    ax = setPlot()\n",
    "    plotAxes(m, ax, 3)\n",
    "\n",
    "interact(showAxes, x=(-90,90), y=(-90,90), z=(-90,90))"
   ]
  },
  {
   "cell_type": "markdown",
   "metadata": {},
   "source": [
    "The position of a point can be described using the Cartesian coordinates of an object expressed relative to the origin of a coordinate system $(x_1,y_1,z_1)$ or through a vector of position $p_1$. For example, the position of a parallelepiped\n",
    "in a coordinate system can be described using 8 position vectors, one for each one of the vertices. In the case that the object is moving, the calculation of the new position assumes the calculation of a new set of 8 vectors of position. This situation can become even more complicated if we are talking about irregular objects (a particular case, when for each position of the object it might be necessary to calculate more than 8 vector of position), or in the case in which we have more objects that move independently in relation to each other. An alternative and more efficient solution is to attach a different coordinate system on each object, which will displace together with the object itself. If the object is rigid (i.e. it does not deform), the position of every point belonging to the object remains the same in respect to the coordinate system attached on the object, independent of its the displacement. In this way, the problem of calculating the motion of an object is reduced to the calculation of the relation between two coordinate systems (reference system and the coordinate system attached on the object). Moreover, this relationship allows the calculation of the new position of any point belonging to the object of interest. The position of point $P$ is described by its Cartesian coordinates: $P(x,y,z)$."
   ]
  },
  {
   "cell_type": "markdown",
   "metadata": {},
   "source": [
    "### 1.2 Elementary Transformations. Homogeneous Transformations"
   ]
  },
  {
   "cell_type": "markdown",
   "metadata": {},
   "source": [
    "A rigid solid, and its inertial coordinate system, have 6 degrees of freedom (DOF), or 6 independent ways in which the object can move. These elementary transformations are:\n"
   ]
  },
  {
   "cell_type": "markdown",
   "metadata": {},
   "source": [
    "##### 1. Translation on X axis.  If the translation takes place with a distance ’d’, this is denoted as:Trans(X,d). \n",
    "Try moving the slider to see how translation on X takes place."
   ]
  },
  {
   "cell_type": "code",
   "execution_count": 2,
   "metadata": {
    "code_folding": [
     4
    ]
   },
   "outputs": [
    {
     "data": {
      "application/vnd.jupyter.widget-view+json": {
       "model_id": "8b88ca07162141f785df3b87b86854b4",
       "version_major": 2,
       "version_minor": 0
      },
      "text/plain": [
       "interactive(children=(FloatSlider(value=0.25, description='d', max=1.0, min=-0.5), Output()), _dom_classes=('w…"
      ]
     },
     "metadata": {},
     "output_type": "display_data"
    },
    {
     "data": {
      "text/plain": [
       "<function __main__.TransX(d)>"
      ]
     },
     "execution_count": 2,
     "metadata": {},
     "output_type": "execute_result"
    }
   ],
   "source": [
    "from ipywidgets import interact\n",
    "from spatialmath.base import *\n",
    "from lab_functions import setPlot, plotAxes\n",
    "\n",
    "def TransX(d):\n",
    "    ax = setPlot()\n",
    "    m = transl(d,0,0)\n",
    "    plotAxes(m, ax, 4)\n",
    "\n",
    "interact(TransX, d=(-0.5,1.0))"
   ]
  },
  {
   "cell_type": "markdown",
   "metadata": {},
   "source": [
    "##### 2. Translation on Y axis.  If the translation takes place with a distance ’d’, this is denoted as:Trans(Y,d). \n",
    "Try moving the slider to see how translation on Y takes place."
   ]
  },
  {
   "cell_type": "code",
   "execution_count": 3,
   "metadata": {
    "code_folding": [
     4
    ]
   },
   "outputs": [
    {
     "data": {
      "application/vnd.jupyter.widget-view+json": {
       "model_id": "87cbca03d65048999cdd900e0c0a9601",
       "version_major": 2,
       "version_minor": 0
      },
      "text/plain": [
       "interactive(children=(FloatSlider(value=0.25, description='d', max=1.0, min=-0.5), Output()), _dom_classes=('w…"
      ]
     },
     "metadata": {},
     "output_type": "display_data"
    },
    {
     "data": {
      "text/plain": [
       "<function __main__.TransY(d)>"
      ]
     },
     "execution_count": 3,
     "metadata": {},
     "output_type": "execute_result"
    }
   ],
   "source": [
    "from ipywidgets import interact\n",
    "from spatialmath.base import *\n",
    "from lab_functions import setPlot, plotAxes\n",
    "\n",
    "def TransY(d):\n",
    "    ax = setPlot()\n",
    "    m = transl(0,d,0)\n",
    "    plotAxes(m, ax, 4)\n",
    "\n",
    "interact(TransY, d=(-0.5,1.0))"
   ]
  },
  {
   "cell_type": "markdown",
   "metadata": {},
   "source": [
    "##### 3. Translation on Z axis.  If the translation takes place with a distance ’d’, this is denoted as:Trans(Z,d). \n",
    "Try moving the slider to see how translation on Z takes place."
   ]
  },
  {
   "cell_type": "code",
   "execution_count": 4,
   "metadata": {
    "code_folding": [
     4
    ]
   },
   "outputs": [
    {
     "data": {
      "application/vnd.jupyter.widget-view+json": {
       "model_id": "74842cb53a604ac484242a53ff1c8be5",
       "version_major": 2,
       "version_minor": 0
      },
      "text/plain": [
       "interactive(children=(FloatSlider(value=0.25, description='d', max=1.0, min=-0.5), Output()), _dom_classes=('w…"
      ]
     },
     "metadata": {},
     "output_type": "display_data"
    },
    {
     "data": {
      "text/plain": [
       "<function __main__.TransZ(d)>"
      ]
     },
     "execution_count": 4,
     "metadata": {},
     "output_type": "execute_result"
    }
   ],
   "source": [
    "from ipywidgets import interact\n",
    "from spatialmath.base import *\n",
    "from lab_functions import setPlot, plotAxes\n",
    "\n",
    "def TransZ(d):\n",
    "    ax = setPlot()\n",
    "    m = transl(0,0,d)\n",
    "    plotAxes(m, ax, 4)\n",
    "\n",
    "interact(TransZ, d=(-0.5,1.0))"
   ]
  },
  {
   "cell_type": "markdown",
   "metadata": {},
   "source": [
    "##### 4. Rotation on X axis.  If the rotation takes place with an angle '$\\vartheta$', this is denoted as:Rot(X,$\\vartheta$). \n",
    "Try moving the slider to see how rotation on X takes place."
   ]
  },
  {
   "cell_type": "code",
   "execution_count": 5,
   "metadata": {
    "code_folding": [
     4
    ]
   },
   "outputs": [
    {
     "data": {
      "application/vnd.jupyter.widget-view+json": {
       "model_id": "4c7d9715e3234f15baadf305b50c3240",
       "version_major": 2,
       "version_minor": 0
      },
      "text/plain": [
       "interactive(children=(FloatSlider(value=0.0, description='theta', max=3.14, min=-3.14), Output()), _dom_classe…"
      ]
     },
     "metadata": {},
     "output_type": "display_data"
    },
    {
     "data": {
      "text/plain": [
       "<function __main__.RotX(theta)>"
      ]
     },
     "execution_count": 5,
     "metadata": {},
     "output_type": "execute_result"
    }
   ],
   "source": [
    "from ipywidgets import interact\n",
    "from spatialmath.base import *\n",
    "from lab_functions import setPlot, plotAxes\n",
    "\n",
    "def RotX(theta):\n",
    "    ax = setPlot()\n",
    "    m = trotx(theta)\n",
    "    plotAxes(m, ax, 4)\n",
    "\n",
    "interact(RotX, theta=(-3.14,3.14))"
   ]
  },
  {
   "cell_type": "markdown",
   "metadata": {},
   "source": [
    "##### 5. Rotation on Y axis.  If the rotation takes place with an angle '$\\vartheta$', this is denoted as:Rot(Y,$\\vartheta$). \n",
    "Try moving the slider to see how rotation on Y takes place."
   ]
  },
  {
   "cell_type": "code",
   "execution_count": 6,
   "metadata": {
    "code_folding": [
     4
    ]
   },
   "outputs": [
    {
     "data": {
      "application/vnd.jupyter.widget-view+json": {
       "model_id": "74112ba5e3d94900b72daa31d378485b",
       "version_major": 2,
       "version_minor": 0
      },
      "text/plain": [
       "interactive(children=(FloatSlider(value=0.0, description='theta', max=3.14, min=-3.14), Output()), _dom_classe…"
      ]
     },
     "metadata": {},
     "output_type": "display_data"
    },
    {
     "data": {
      "text/plain": [
       "<function __main__.RotY(theta)>"
      ]
     },
     "execution_count": 6,
     "metadata": {},
     "output_type": "execute_result"
    }
   ],
   "source": [
    "from ipywidgets import interact\n",
    "from spatialmath.base import *\n",
    "from lab_functions import setPlot, plotAxes\n",
    "\n",
    "def RotY(theta):\n",
    "    ax = setPlot()\n",
    "    m = troty(theta)\n",
    "    plotAxes(m, ax, 4)\n",
    "\n",
    "interact(RotY, theta=(-3.14,3.14))"
   ]
  },
  {
   "cell_type": "markdown",
   "metadata": {},
   "source": [
    "##### 6. Rotation on Z axis.  If the rotation takes place with an angle ’$\\vartheta$’, this is denoted as:Rot(Z,$\\vartheta$). \n",
    "Try moving the slider to see how rotation on Z takes place."
   ]
  },
  {
   "cell_type": "code",
   "execution_count": 7,
   "metadata": {
    "code_folding": [
     4
    ]
   },
   "outputs": [
    {
     "data": {
      "application/vnd.jupyter.widget-view+json": {
       "model_id": "195714da99e844c4a3e3371fc71fef91",
       "version_major": 2,
       "version_minor": 0
      },
      "text/plain": [
       "interactive(children=(FloatSlider(value=0.0, description='theta', max=3.14, min=-3.14), Output()), _dom_classe…"
      ]
     },
     "metadata": {},
     "output_type": "display_data"
    },
    {
     "data": {
      "text/plain": [
       "<function __main__.RotZ(theta)>"
      ]
     },
     "execution_count": 7,
     "metadata": {},
     "output_type": "execute_result"
    }
   ],
   "source": [
    "from ipywidgets import interact\n",
    "from spatialmath.base import *\n",
    "from lab_functions import setPlot, plotAxes\n",
    "\n",
    "def RotZ(theta):\n",
    "    ax = setPlot()\n",
    "    m = trotz(theta)\n",
    "    plotAxes(m, ax, 4)\n",
    "\n",
    "interact(RotZ, theta=(-3.14,3.14))"
   ]
  },
  {
   "cell_type": "markdown",
   "metadata": {},
   "source": [
    "The motion of a rigid object in respect to a reference coordinate system can be described as a succession of elementary rotations and translations applied on the coordinate system that is attached on the object. For the description of any translation in the three dimensional space, we need only three parameters. Therefore the matrix representation of a translation can be made using a vector with three elements $w = [w_{x}, w_{y}, w_z ]^T $. This transformation is finite, but it is not linear."
   ]
  },
  {
   "cell_type": "markdown",
   "metadata": {},
   "source": [
    "\n",
    "For the rotation, there are more than one methods of representation. One of the most popular methods is by using rotation matrices. Considering a Cartesian coordinate system on which we apply an arbitrary rotation, we express the orientation of the set of axes (represented by the vectors $u$, $v$, $w$) with respect to the original coordinate system (represented by the vectors $x$, $z$, $y$). This representation describes completely the rotation. The three vectors $u$,$v$,$w$, that form the expression of the new coordinate system, are each represented of the three components, resulting therefore in a total of 9 parameters that represent a rotation."
   ]
  },
  {
   "cell_type": "markdown",
   "metadata": {},
   "source": [
    "\\begin{equation}\\label{eq.1.1}\n",
    "A = \\left[ {\\begin{array}{*{20}c}\n",
    "   {\\hat u_x } & {\\hat v_x } & {\\hat w_x }  \\\\\n",
    "   {\\hat u_y } & {\\hat v_y } & {\\hat w_y }  \\\\\n",
    "   {\\hat u_z } & {\\hat v_z } & {\\hat w_z }  \\\\\n",
    "\\end{array}} \\right]\n",
    "\\end{equation}"
   ]
  },
  {
   "cell_type": "markdown",
   "metadata": {},
   "source": [
    "Each one of the elements of the matrix represents the cosine of the angle between an axis of the new and one of the reference coordinate system ($x$, $z$ or $y$), that is why the matrix above is called as well *direction cosine matrix*. The rotation matrix is an orthogonal matrix, with real elements and a determinant of +1. The eigenvalues of the matrix are $\\left\\{ {1,e^{ \\pm i \\cdot \\theta } } \\right\\}$ where $ e$ is the unit vector corresponding to the direction around which the rotation is made and $\\theta $ is the angle of the rotation.\n"
   ]
  },
  {
   "cell_type": "markdown",
   "metadata": {},
   "source": [
    "In the case that the rotation is happening with an angle $\\varphi$ around one of the elementary axes ($x$, $y$ or $z$), the direction cosine matrix has the following form:\n"
   ]
  },
  {
   "cell_type": "markdown",
   "metadata": {},
   "source": [
    "Rotation around $x$ axis:\n",
    "$A_x  = \\left( {\\begin{array}{*{20}c}\n",
    "   1 & 0 & 0  \\\\\n",
    "   0 & {\\cos \\varphi } & { - \\sin \\varphi }  \\\\\n",
    "   0 & {\\sin \\varphi } & {\\cos \\varphi }  \\\\\n",
    "\\end{array}} \\right)$\n",
    "\n",
    "Rotation around $y$ axis:\n",
    "$A_y  = \\left( {\\begin{array}{*{20}c}\n",
    "   {\\cos \\varphi } & 0 & {\\sin \\varphi }  \\\\\n",
    "   0 & 1 & 0  \\\\\n",
    "   { - \\sin \\varphi } & 0 & {\\cos \\varphi }  \\\\\n",
    "\\end{array}} \\right)$\n",
    "\n",
    "Rotation around $z$ axis:\n",
    "$A_z  = \\left( {\\begin{array}{*{20}c}\n",
    "   {\\cos \\varphi } & { - \\sin \\varphi } & 0  \\\\\n",
    "   {\\sin \\varphi } & {\\cos \\varphi } & 0  \\\\\n",
    "   0 & 0 & 1  \\\\\n",
    "\\end{array}} \\right)$"
   ]
  },
  {
   "cell_type": "markdown",
   "metadata": {},
   "source": [
    "Therefore, a $3 \\times 3$ matrix can be used for describing a rotation, but not for a translation.\n"
   ]
  },
  {
   "cell_type": "markdown",
   "metadata": {},
   "source": [
    "\n",
    "The *homogeneous coordinates* were introduced by M&ouml;bius to allow the description of finite transformations using matrices. Furthermore, homogeneous coordinates allow to work the same way for rotational transformations as well as translational transformations."
   ]
  },
  {
   "cell_type": "markdown",
   "metadata": {},
   "source": [
    "In principle, the coordinates of a point in $n$-dimensional space can be represented through a vector of $n+1$ dimensions, by adding a non-zero scaling factor. The homogeneous coordinates of a point in three dimensional space are obtained through its Cartesian coordinates by adding a scaling factor, which for the robotics applications equals 1. Therefore, a point $P(x, y, z)$ has homogeneous coordinates:"
   ]
  },
  {
   "cell_type": "markdown",
   "metadata": {},
   "source": [
    "\\begin{equation}\n",
    "\\left[ {\\begin{array}{*{20}c}\n",
    "   x  \\\\\n",
    "   y  \\\\\n",
    "   z  \\\\\n",
    "   1  \\\\\n",
    "\\end{array}}\n",
    "\\right]\n",
    "\\end{equation}"
   ]
  },
  {
   "cell_type": "markdown",
   "metadata": {},
   "source": [
    "Geometrical transformations are represented in this case through a $4 \\times 4$ matrix:\n"
   ]
  },
  {
   "cell_type": "markdown",
   "metadata": {},
   "source": [
    "$\n",
    "\\begin{equation}\n",
    "T = \\left[ {\\begin{array}{ccc|c}\n",
    "   {} & {} & {} & {}  \\\\\n",
    "   3 &  \\times  & 3 & {3 \\times 1}  \\\\\n",
    "   {} & {} & {} & {}  \\\\ \\hline\n",
    "   1 &  \\times  & 3 & {1 \\times 1}  \\\\\n",
    "\\end{array}} \\right] = \\left[ {\\begin{array}{ccc|c}\n",
    "   {} & {} & {} & {trans - }  \\\\\n",
    "   {} & {rotation} & {} & {la - }  \\\\\n",
    "   {} & {} & {} & {tion}  \\\\ \\hline\n",
    "   0 & 0 & 0 & 1  \\\\\n",
    "\\end{array}} \\right] = \\left[ {\\begin{array}{*{20}c}\n",
    "   X & Y & Z & P  \\\\\n",
    "   0 & 0 & 0 & 1  \\\\\n",
    "\\end{array}} \\right]\\,\n",
    "\\end{equation}\n",
    "$"
   ]
  },
  {
   "cell_type": "markdown",
   "metadata": {},
   "source": [
    "where $\n",
    "X = \\left[ {\\begin{array}{*{20}c}\n",
    "   {X_X }  \\\\\n",
    "   {X_Y }  \\\\\n",
    "   {X_Z }  \\\\\n",
    "\\end{array}} \\right]\n",
    "$ represents the direction of $X$ axis of the new coordinate system,\n"
   ]
  },
  {
   "cell_type": "markdown",
   "metadata": {},
   "source": [
    "where $\n",
    "Y = \\left[ {\\begin{array}{*{20}c}\n",
    "   {Y_X }  \\\\\n",
    "   {Y_Y }  \\\\\n",
    "   {Y_Z }  \\\\\n",
    "\\end{array}} \\right]\n",
    "$ represents the direction of $Y$ axis of the new coordinate system,\n"
   ]
  },
  {
   "cell_type": "markdown",
   "metadata": {},
   "source": [
    "where $\n",
    "Z = \\left[ {\\begin{array}{*{20}c}\n",
    "   {Z_X }  \\\\\n",
    "   {Z_Y }  \\\\\n",
    "   {Z_Z }  \\\\\n",
    "\\end{array}} \\right]\n",
    "$ represents the direction of $Z$ axis of the new coordinate system,\n"
   ]
  },
  {
   "cell_type": "markdown",
   "metadata": {},
   "source": [
    "$\n",
    "P = \\left[ {\\begin{array}{*{20}c}\n",
    "   {P_X }  \\\\\n",
    "   {P_Y }  \\\\\n",
    "   {P_Z }  \\\\\n",
    "\\end{array}} \\right]\n",
    "$\n",
    " represents the position of the origin of the new coordinate system."
   ]
  },
  {
   "cell_type": "markdown",
   "metadata": {},
   "source": [
    "The matrix $T$ therefore describes the position (through vector $P$) and the orientation (through vectors $X$, $Y$ and $Z$) of the new coordinate system with respect to the reference system. Through the multiplication of two homogeneous transformation matrices, the result is still a homogeneous transformation matrix."
   ]
  },
  {
   "cell_type": "markdown",
   "metadata": {},
   "source": [
    "\n",
    "The following homogeneous transformation matrices are associated to elementary geometrical transformations:\n",
    "\\begin{equation}\n",
    "   Trans(X,a) = \\left[ {\\begin{array}{*{20}c}\n",
    "   1 & 0 & 0 & a  \\\\\n",
    "   0 & 1 & 0 & 0  \\\\\n",
    "   0 & 0 & 1 & 0  \\\\\n",
    "   0 & 0 & 0 & 1  \\\\\n",
    "\\end{array}} \\right]\n",
    "\\end{equation}\n",
    "\n",
    "\\begin{equation}\n",
    "Trans(Y,b) = \\left[ {\\begin{array}{*{20}c}\n",
    "   1 & 0 & 0 & 0  \\\\\n",
    "   0 & 1 & 0 & b  \\\\\n",
    "   0 & 0 & 1 & 0  \\\\\n",
    "   0 & 0 & 0 & 1  \\\\\n",
    "\\end{array}} \\right]\n",
    "\\end{equation}\n",
    "\n",
    "\\begin{equation}\n",
    "Trans(Z,c) = \\left[ {\\begin{array}{*{20}c}\n",
    "   1 & 0 & 0 & 0  \\\\\n",
    "   0 & 1 & 0 & 0  \\\\\n",
    "   0 & 0 & 1 & c  \\\\\n",
    "   0 & 0 & 0 & 1  \\\\\n",
    "\\end{array}} \\right]\n",
    "\\end{equation}\n",
    "\n",
    "\n",
    "\\begin{equation}\n",
    "Rot(X,\\vartheta ) = \\left[ {\\begin{array}{*{20}c}\n",
    "   1 & 0 & 0 & 0  \\\\\n",
    "   0 & {\\cos \\vartheta } & { - \\sin \\vartheta } & 0  \\\\\n",
    "   0 & {\\sin \\vartheta } & {\\cos \\vartheta } & 0  \\\\\n",
    "   0 & 0 & 0 & 1  \\\\\n",
    "\\end{array}} \\right]\n",
    "\\end{equation}\n",
    "\n",
    "\\begin{equation}\n",
    "Rot(Y,\\varphi ) = \\left[ {\\begin{array}{*{20}c}\n",
    "   {\\cos \\varphi } & 0 & {\\sin \\varphi } & 0  \\\\\n",
    "   0 & 1 & 0 & 0  \\\\\n",
    "   { - \\sin \\varphi } & 0 & {\\cos \\varphi } & 0  \\\\\n",
    "   0 & 0 & 0 & 1  \\\\\n",
    "\\end{array}} \\right]\n",
    "\\end{equation}\n",
    "\n",
    "\n",
    "\n",
    "\\begin{equation}\n",
    "Rot(Z,\\omega ) = \\left[ {\\begin{array}{*{20}c}\n",
    "   {\\cos \\omega } & { - \\sin \\omega } & 0 & 0  \\\\\n",
    "   {\\sin \\omega } & {\\cos \\omega } & 0 & 0  \\\\\n",
    "   0 & 0 & 1 & 0  \\\\\n",
    "   0 & 0 & 0 & 1  \\\\\n",
    "\\end{array}} \\right]\n",
    "\\end{equation}"
   ]
  },
  {
   "cell_type": "markdown",
   "metadata": {},
   "source": [
    "A matrix of a transformation can be understood in different ways:\n",
    "\n",
    "- as a transformation from one coordinate system to another one\n",
    "- as a description of the origin and orientation of the new coordinate system with respect to the reference coordinate system\n",
    "-  as a description of the displacement of an object from a position (reference system) to another one (new coordinate system)\n",
    "- as a method that allows the calculation of the position of a point, that is part of an object, with respect to a system of reference, knowing its position with respect to the new coordinate system:\n",
    "$\n",
    "      \\begin{equation}\\label{eq.1.9}\n",
    "^R q = ^R T_N  \\cdot ^N q\n",
    "      \\end{equation}$\n",
    "<br>\n",
    "where:\n",
    "\n",
    "<br>$^R q$ is the vector of position of a point in the system $R$ (reference system);\n",
    "<br>$^R T_N$ is the transformation of the new coordinate system in respect to the reference system, known as \\emph{direct transformation}. In other words, it is the transformation that is applied on system $R$ so that it arrives at the position of system $N$.\n",
    "<br>$^N q$ is the vector of position of a point in the coordinate system $N$(new coordinate system).\n",
    " \n",
    "\n"
   ]
  },
  {
   "cell_type": "markdown",
   "metadata": {},
   "source": [
    "<center>\n",
    "    <figure>\n",
    "        <img src=\"artwork/transformations/swap_coordinates.png\" width=50% />\n",
    "        <figcaption>Figure 1.3: Calculation of the position of a point in the reference coordinate system, using direct transformation and the coordinates of the point in its own coordinate system</figcaption>\n",
    "        </figure>\n",
    "</center>"
   ]
  },
  {
   "cell_type": "markdown",
   "metadata": {},
   "source": [
    "### 1.3 Combination of transformations\n"
   ]
  },
  {
   "cell_type": "markdown",
   "metadata": {},
   "source": [
    "As it was shown, a geometrical transformation can be decomposed in a succession of elementary rotations and translations. The combination of a succession of elementary geometrical transformations in a general transformation, can be therefore done:"
   ]
  },
  {
   "cell_type": "markdown",
   "metadata": {},
   "source": [
    "- Using <b>LEFT MULTIPLICATION</b> of homogeneous transformation matrices if the transformations are made in respect to a reference coordinate system.\n",
    "    (<b>ABSOLUTE TRANSFORMATIONS</b>). In these conditions, if we have a succession of $n$ absolute transformations$(T_i, \\;\\;i=\\overline{1\\ldots n})$, the transformation matrix can be written as:\n",
    "    \n",
    "\\begin{equation}\n",
    "T_A=\\prod \\limits_{i=n}^1 T_i=T_n\\cdot T_{n-1}\\cdot\\ldots\\cdot T_1\n",
    "\\end{equation}\n",
    "\n",
    "\n",
    "You can see a visualisation of an 'absolute' transformation in the following snippet. Run it and notice how the 'small' coordinate frame is transformed around the blue axis of the 'big' coordinate frame, both in the translation and rotation tab.\n",
    "\n"
   ]
  },
  {
   "cell_type": "code",
   "execution_count": 8,
   "metadata": {
    "code_folding": [
     5,
     11
    ]
   },
   "outputs": [
    {
     "data": {
      "application/vnd.jupyter.widget-view+json": {
       "model_id": "1dca486c63874893b471c8c7d4c069f3",
       "version_major": 2,
       "version_minor": 0
      },
      "text/plain": [
       "Tab(children=(interactive(children=(FloatSlider(value=0.0, description='a', max=3.14, min=-3.14), Output()), _…"
      ]
     },
     "metadata": {},
     "output_type": "display_data"
    }
   ],
   "source": [
    "from ipywidgets import interact, widgets\n",
    "from lab_functions import setPlot, plotAxes\n",
    "from spatialmath.base import *\n",
    "import numpy as np\n",
    "\n",
    "def TranslateOnXLeft(a):\n",
    "    ax = setPlot()\n",
    "    matrix = np.matmul(transl(0.5,0.5,1),trotz(0.407))\n",
    "    tf = np.matmul(transl(a,0,0),matrix);\n",
    "    plotAxes(tf, ax, lw=6, ln=1)\n",
    "    \n",
    "def RotateOnXLeft(a):\n",
    "    ax = setPlot()\n",
    "    matrix = np.matmul(transl(0.5,0.5,1),trotz(0.407))\n",
    "    tf = np.matmul(trotx(a),matrix);\n",
    "    plotAxes(tf, ax, lw=6, ln=1)\n",
    "\n",
    "out1 = widgets.interactive(RotateOnXLeft, a=(-3.14,3.14))\n",
    "out2 = widgets.interactive(TranslateOnXLeft, a=(-1.0,1.0))\n",
    "\n",
    "tab  = widgets.Tab(children = [out1, out2])\n",
    "tab.set_title(0, 'rotation')\n",
    "tab.set_title(1, 'translation')\n",
    "\n",
    "display(tab)"
   ]
  },
  {
   "cell_type": "markdown",
   "metadata": {},
   "source": [
    "- Using <b>RIGHT MULTIPLICATION</b> of homogeneous transformation matrices if transformations are made in respect to a new coordinate system (the system that is obtained as a result of the last transformation). (<b>RELATIVE TRANSFORMATIONS</b>). In these conditions, if we have a succession of $n$ relative transformations $(T_i, \\;\\;i=\\overline{1\\ldots n})$, the transformation matrix can be written as:\n",
    "\n",
    "\\begin{equation}\n",
    "T_r=\\prod \\limits_{i=1}^n T_i=T_1\\cdot T_2\\cdot\\ldots\\cdot T_n\n",
    "\\end{equation}\n",
    "\n",
    "You can see a visualisation of an 'relative' transformation in the following snippets. Run it and notice how the 'small' coordinate frame is transformed around the blue axis of its own coordinate frame, both on the translation and the rotation tab:"
   ]
  },
  {
   "cell_type": "code",
   "execution_count": 9,
   "metadata": {
    "code_folding": [
     5,
     11
    ]
   },
   "outputs": [
    {
     "data": {
      "application/vnd.jupyter.widget-view+json": {
       "model_id": "560ac354dbb0497eb9daa4936ca31673",
       "version_major": 2,
       "version_minor": 0
      },
      "text/plain": [
       "Tab(children=(interactive(children=(FloatSlider(value=0.0, description='a', max=3.14, min=-3.14), Output()), _…"
      ]
     },
     "metadata": {},
     "output_type": "display_data"
    }
   ],
   "source": [
    "from ipywidgets import interact\n",
    "from lab_functions import setPlot, plotAxes\n",
    "from spatialmath.base import *\n",
    "import numpy as np\n",
    "\n",
    "def TranslateOnXRight(a):\n",
    "    ax = setPlot()\n",
    "    matrix = np.matmul(transl(0.5,0.5,1),trotz(0.407))\n",
    "    tf = np.matmul(matrix,transl(a,0,0));\n",
    "    plotAxes(tf, ax, lw=6, ln=1)\n",
    "    \n",
    "def RotateOnXRight(a):\n",
    "    ax = setPlot()\n",
    "    matrix = np.matmul(transl(0.5,0.5,1),trotz(0.407))\n",
    "    tf = np.matmul(matrix,trotx(a));\n",
    "    plotAxes(tf, ax, lw=6, ln=1)\n",
    "\n",
    "out1 = widgets.interactive(RotateOnXRight, a=(-3.14,3.14))\n",
    "out2 = widgets.interactive(TranslateOnXRight, a=(-1.0,1.0))\n",
    "\n",
    "tab  = widgets.Tab(children = [out1, out2])\n",
    "tab.set_title(0, 'rotation')\n",
    "tab.set_title(1, 'translation')\n",
    "\n",
    "display(tab)"
   ]
  },
  {
   "cell_type": "markdown",
   "metadata": {},
   "source": [
    "### Swapping coordinate frames"
   ]
  },
  {
   "cell_type": "markdown",
   "metadata": {},
   "source": [
    "With the help of direct geometrical transformations it is possible to determine the position of a point in the reference system  ${ }^Rq$ if we know its position in another coordinate system ${}^Nq$ with direct geometrical transformation $^R T_N$. If we want to find ${}^Nq$, with given ${}^Rq$ and $^R T_N$, we must proceed as following:"
   ]
  },
  {
   "cell_type": "markdown",
   "metadata": {},
   "source": [
    "\n",
    "\\begin{equation}\n",
    "{ }^Rq = T \\cdot { }^Nq \\to T^{ - 1} \\cdot { }^Rq = T^{ - 1} \\cdot T \\cdot {\n",
    "}^Nq \\to { }^Nq = T^{ - 1} \\cdot { }^Rq\n",
    "\\end{equation}\n",
    "\n",
    "\n",
    "<br>\n",
    "Therefore, the inverse geometric transformation is described with the inverse matrix of the direct transformation.\n",
    "<br>\n",
    "\n",
    "Denoted\n",
    "\n",
    "\\begin{equation}\\label{eq.1.11}\n",
    "T = \\left[ \\begin{array}{cccc}\n",
    " {X_X } & {Y_X } & {Z_X } & {P_X } \\\\\n",
    " {X_Y } & {Y_Y } & {Z_Y } & {P_Y } \\\\\n",
    " {X_Z } & {Y_Z } & {Z_Z } & {P_Z } \\\\\n",
    " 0 & 0 & 0  & 1 \\\\\n",
    "\\end{array} \\right]\n",
    "\\end{equation}\n",
    "\n",
    "\n",
    "<br>\n",
    "it can be demonstrated that the inverse of a homogeneous transformation matrix, is:\n",
    "<br>\n",
    "\n",
    "\\begin{equation}\n",
    "T^{ - 1} = \\left[\n",
    "\\begin{array}{cccc}\n",
    " {X_X } & {X_Y } & {X_Z } & { - P_X\\cdot X_X - P_Y \\cdot X_Y - P_Z\\cdot X_Z }  \\\\\n",
    " {Y_X } & {Y_Y } & {Y_Z } & { - P_X \\cdot Y_X - P_Y \\cdot Y_Y - P_Z\\cdot Y_Z }  \\\\\n",
    " {Z_X } & {Z_Y } & {Z_Z } & { - P_X\\cdot Z_X - P_Y \\cdot Z_Y - P_Z\\cdot Z_Z }  \\\\\n",
    " 0  & 0 & 0  & 1\n",
    "\\end{array} \\right]\n",
    "\\end{equation}\n"
   ]
  },
  {
   "cell_type": "markdown",
   "metadata": {},
   "source": [
    "### 1.4 Python commands"
   ]
  },
  {
   "cell_type": "markdown",
   "metadata": {},
   "source": [
    "For any library or methods used, you have the option to look at the Python documentation by using the [.__ doc __](https://blog.finxter.com/what-is-__-doc-__-in-python/) command."
   ]
  },
  {
   "cell_type": "code",
   "execution_count": 10,
   "metadata": {},
   "outputs": [
    {
     "name": "stdout",
     "output_type": "stream",
     "text": [
      "\n",
      "NumPy\n",
      "=====\n",
      "\n",
      "Provides\n",
      "  1. An array object of arbitrary homogeneous items\n",
      "  2. Fast mathematical operations over arrays\n",
      "  3. Linear Algebra, Fourier Transforms, Random Number Generation\n",
      "\n",
      "How to use the documentation\n",
      "----------------------------\n",
      "Documentation is available in two forms: docstrings provided\n",
      "with the code, and a loose standing reference guide, available from\n",
      "`the NumPy homepage <https://www.scipy.org>`_.\n",
      "\n",
      "We recommend exploring the docstrings using\n",
      "`IPython <https://ipython.org>`_, an advanced Python shell with\n",
      "TAB-completion and introspection capabilities.  See below for further\n",
      "instructions.\n",
      "\n",
      "The docstring examples assume that `numpy` has been imported as `np`::\n",
      "\n",
      "  >>> import numpy as np\n",
      "\n",
      "Code snippets are indicated by three greater-than signs::\n",
      "\n",
      "  >>> x = 42\n",
      "  >>> x = x + 1\n",
      "\n",
      "Use the built-in ``help`` function to view a function's docstring::\n",
      "\n",
      "  >>> help(np.sort)\n",
      "  ... # doctest: +SKIP\n",
      "\n",
      "For some objects, ``np.info(obj)`` may provide additional help.  This is\n",
      "particularly true if you see the line \"Help on ufunc object:\" at the top\n",
      "of the help() page.  Ufuncs are implemented in C, not Python, for speed.\n",
      "The native Python help() does not know how to view their help, but our\n",
      "np.info() function does.\n",
      "\n",
      "To search for documents containing a keyword, do::\n",
      "\n",
      "  >>> np.lookfor('keyword')\n",
      "  ... # doctest: +SKIP\n",
      "\n",
      "General-purpose documents like a glossary and help on the basic concepts\n",
      "of numpy are available under the ``doc`` sub-module::\n",
      "\n",
      "  >>> from numpy import doc\n",
      "  >>> help(doc)\n",
      "  ... # doctest: +SKIP\n",
      "\n",
      "Available subpackages\n",
      "---------------------\n",
      "doc\n",
      "    Topical documentation on broadcasting, indexing, etc.\n",
      "lib\n",
      "    Basic functions used by several sub-packages.\n",
      "random\n",
      "    Core Random Tools\n",
      "linalg\n",
      "    Core Linear Algebra Tools\n",
      "fft\n",
      "    Core FFT routines\n",
      "polynomial\n",
      "    Polynomial tools\n",
      "testing\n",
      "    NumPy testing tools\n",
      "f2py\n",
      "    Fortran to Python Interface Generator.\n",
      "distutils\n",
      "    Enhancements to distutils with support for\n",
      "    Fortran compilers support and more.\n",
      "\n",
      "Utilities\n",
      "---------\n",
      "test\n",
      "    Run numpy unittests\n",
      "show_config\n",
      "    Show numpy build configuration\n",
      "dual\n",
      "    Overwrite certain functions with high-performance SciPy tools.\n",
      "    Note: `numpy.dual` is deprecated.  Use the functions from NumPy or Scipy\n",
      "    directly instead of importing them from `numpy.dual`.\n",
      "matlib\n",
      "    Make everything matrices.\n",
      "__version__\n",
      "    NumPy version string\n",
      "\n",
      "Viewing documentation using IPython\n",
      "-----------------------------------\n",
      "Start IPython with the NumPy profile (``ipython -p numpy``), which will\n",
      "import `numpy` under the alias `np`.  Then, use the ``cpaste`` command to\n",
      "paste examples into the shell.  To see which functions are available in\n",
      "`numpy`, type ``np.<TAB>`` (where ``<TAB>`` refers to the TAB key), or use\n",
      "``np.*cos*?<ENTER>`` (where ``<ENTER>`` refers to the ENTER key) to narrow\n",
      "down the list.  To view the docstring for a function, use\n",
      "``np.cos?<ENTER>`` (to view the docstring) and ``np.cos??<ENTER>`` (to view\n",
      "the source code).\n",
      "\n",
      "Copies vs. in-place operation\n",
      "-----------------------------\n",
      "Most of the functions in `numpy` return a copy of the array argument\n",
      "(e.g., `np.sort`).  In-place versions of these functions are often\n",
      "available as array methods, i.e. ``x = np.array([1,2,3]); x.sort()``.\n",
      "Exceptions to this rule are documented.\n",
      "\n",
      "\n"
     ]
    }
   ],
   "source": [
    "import numpy as np\n",
    "\n",
    "print(np.__doc__)"
   ]
  },
  {
   "cell_type": "markdown",
   "metadata": {},
   "source": [
    "There are several toolboxes available online for helping us with various robotics operations. Ones we will use extensively during the laboratories is [__spatialmath__](https://petercorke.github.io/spatialmath-python/intro.html). This toolbox offers a very easy way to calculate various transformation matrices, using the __trotx, troty, trotz, and transl__ commands. You can see an example of how are these used below:"
   ]
  },
  {
   "cell_type": "code",
   "execution_count": 11,
   "metadata": {
    "tags": []
   },
   "outputs": [
    {
     "name": "stdout",
     "output_type": "stream",
     "text": [
      "[[ 0.70710678 -0.70710678  0.          0.        ]\n",
      " [ 0.70710678  0.70710678  0.          0.        ]\n",
      " [ 0.          0.          1.          0.        ]\n",
      " [ 0.          0.          0.          1.        ]]\n",
      "[[ 0.70710678 -0.70710678  0.          1.41421356]\n",
      " [ 0.5         0.5        -0.70710678  1.70710678]\n",
      " [ 0.5         0.5         0.70710678  0.29289322]\n",
      " [ 0.          0.          0.          1.        ]]\n"
     ]
    }
   ],
   "source": [
    "from spatialmath.base import *\n",
    "from spatialmath import *\n",
    "\n",
    "t1 = trotx(45, 'deg')\n",
    "t2 = trotz(45, 'deg')\n",
    "t3 = transl(2, 0 ,-1)\n",
    "\n",
    "# print is a function in python 3, it needs brackets\n",
    "print(t2)\n",
    "\n",
    "# The matrices obtained using this method can be combined to calculate more complex transformations by multiplication:\n",
    "\n",
    "# Calculate coordinate '3' frame after three consecutive transformations\n",
    "t13 = t1@t2@t3\n",
    "print(t13)\n"
   ]
  },
  {
   "cell_type": "code",
   "execution_count": 12,
   "metadata": {},
   "outputs": [
    {
     "data": {
      "image/png": "[encoded data removed]",
      "text/plain": [
       "<Figure size 432x288 with 1 Axes>"
      ]
     },
     "metadata": {},
     "output_type": "display_data"
    }
   ],
   "source": [
    "from spatialmath.base import *\n",
    "from spatialmath import *\n",
    "\n",
    "# You can also visualise the coordinate frame if you use the 'SE3' class\n",
    "p1 = SE3.Rx(theta=45, unit='deg')\n",
    "p3 = SE3.Ry(theta=45, unit='deg')\n",
    "p2 = SE3(x=2, y=0, z=-1)\n",
    "\n",
    "(p1@p2@p3).plot()"
   ]
  },
  {
   "cell_type": "markdown",
   "metadata": {},
   "source": [
    "We can also define a point by its coordinates on a coordinate frame, and find out what are its coordinates on another frame if we know the transformation between the two frames. For defining the point we use the [__numpy__](https://numpy.org/) library. By default, numpy creates row vectors, that's why we need to transpose the vector into a column before we do the multiplication. We do that using the __T__ method:"
   ]
  },
  {
   "cell_type": "code",
   "execution_count": null,
   "metadata": {},
   "outputs": [],
   "source": [
    "import numpy as np\n",
    "\n",
    "# Define point P with coordinates 1,2,3\n",
    "P = np.array([[1,2,3,1]]).T\n",
    "\n",
    "# Calculating coordinates of point P in frame '3'\n",
    "t13*P"
   ]
  },
  {
   "cell_type": "markdown",
   "metadata": {},
   "source": [
    "# Assignments\n",
    "\n",
    "## 1.Transforming a point\n",
    "\n",
    "A point with coordinates $P(1, 2, 3)$ is given. We apply the following transformations on the point, with the specified order: $Trans(X,4),\\;\\; Trans(Y,-4),\\;\\; Rot(X, 90^\\circ), \\;\\;Trans(Z,4),\\;\\; Rot(Y, 90^\\circ)$. Determine the new coordinates of the point if we consider Absolute transformations.\n",
    "\n",
    "\n",
    "## 2.Transforming a coordinate frame\n",
    "\n",
    "In robotics, coordinate frames can be attached to different parts of a robot.\n",
    "Consider the model of the AL5D robot, shown below. \n",
    "- Identify the homogeneous transformation matrix that can express the frame attached to the gripper of the robot in the base frame. The origin of the gripper frame with respect to the base frame lies at $(0, 3, 0.5)$\n",
    "-  Connect the robot to your computer and run the code below. Try to move your robot to the pose shown in the figure using the sliders. What are the values of each joint $(q_0, q_1, q_2, q_3)$ in this the pose?\n",
    "- A camera attached to the gripper of the robot would see the purple ball at the position $(-1, -0.5, 2)$ expressed in the gripper's frame. Find the coordinates of the ball expressed in the base frame.\n",
    "\n",
    "<center>\n",
    "    <figure class=\"image\">\n",
    "      <img src=\"artwork/transformations/transformations_al5d_withball.png\" width=50% />\n",
    "      <figcaption>Model of the AL5D robot with one coordinate frame attached to the base of the robot and another one to the gripper.</figcaption>\n",
    "    </figure>\n",
    "</center>\n"
   ]
  },
  {
   "cell_type": "code",
   "execution_count": 43,
   "metadata": {},
   "outputs": [
    {
     "name": "stdout",
     "output_type": "stream",
     "text": [
      "[[ 2.]\n",
      " [-3.]\n",
      " [-5.]\n",
      " [ 1.]]\n"
     ]
    }
   ],
   "source": [
    "# 1\n",
    "from spatialmath.base import *\n",
    "from spatialmath import *\n",
    "import numpy as np\n",
    "P = np.array([[1,2,3,1]]).T\n",
    "t1 = transl(4,0,0)\n",
    "t2 = transl(0,-4,0)\n",
    "t3 = trotx(90, 'deg')\n",
    "t4 = transl(0,0,4)\n",
    "t5 = troty(90, 'deg')\n",
    "t15 = t5@t4@t3@t2@t1\n",
    "P = t15@P\n",
    "print(P)"
   ]
  },
  {
   "cell_type": "code",
   "execution_count": 25,
   "metadata": {
    "code_folding": [
     10
    ]
   },
   "outputs": [
    {
     "name": "stdout",
     "output_type": "stream",
     "text": [
      "No device connected on  /dev/ttyUSB0\n",
      "No device connected on  /dev/ttyUSB1\n",
      "No device connected on  COM2\n",
      "No device connected on  COM3\n",
      "No device connected on  COM5\n",
      "No device connected on  COM6\n",
      "No device connected on  COM7\n",
      "No device connected on  COM8\n",
      "No device connected on  COM9\n"
     ]
    },
    {
     "data": {
      "application/vnd.jupyter.widget-view+json": {
       "model_id": "5b59fc4939064445ab20e14581d16138",
       "version_major": 2,
       "version_minor": 0
      },
      "text/plain": [
       "interactive(children=(IntSlider(value=0, description='q0', max=90, min=-90), IntSlider(value=0, description='q…"
      ]
     },
     "metadata": {},
     "output_type": "display_data"
    },
    {
     "data": {
      "text/plain": [
       "<function __main__.robot_control(q0=0, q1=0, q2=0, q3=0, q4=0, gripper=0)>"
      ]
     },
     "execution_count": 25,
     "metadata": {},
     "output_type": "execute_result"
    }
   ],
   "source": [
    "### Cell for sending commands to the AL5D robot ###\n",
    "\n",
    "# Importing necessary modules\n",
    "import serial\n",
    "import sys\n",
    "import time\n",
    "# from __future__ import print_function\n",
    "from ipywidgets import interact, interactive, fixed, interact_manual\n",
    "import roboticstoolbox as rtb\n",
    "import numpy as np\n",
    "\n",
    "al5d = rtb.models.URDF.AL5D_mdw()\n",
    "\n",
    "def robot_control(q0=0, q1=0, q2=0, q3=0, q4=0, gripper=0): #Method for controlling the joints\n",
    "    q0r = q0*np.pi/180\n",
    "    q1r = q1*np.pi/180\n",
    "    q2r = q2*np.pi/180\n",
    "    q3r = q3*np.pi/180\n",
    "    q4r = q4*np.pi/180\n",
    "    elbow = al5d.fkine([q0r,q1r,q2r,q3r,q4r], end='elbow')\n",
    "    wrist = al5d.fkine([q0r,q1r,q2r,q3r,q4r], end='wrist')\n",
    "    grip = al5d.fkine([q0r,q1r,q2r,q3r,q4r], end='gripper')\n",
    "    tool = al5d.fkine([q0r,q1r,q2r,q3r,q4r], end='tool')\n",
    "    \n",
    "    if any(np.array([tool.t[2], grip.t[2], elbow.t[2], wrist.t[2]]) < 0.06):\n",
    "        print(\"Robot collision with the table\")\n",
    "    else:\n",
    "        print(\"No collision detected\")\n",
    "        pwq0 = str(round((q0+90)*11.1111 + 500)) # Scaling of the joint signal from (0,180) to (500,2500)\n",
    "        pwq1 = str(round((q1+90)*11.1111 + 500))\n",
    "        pwq2 = str(round((q2+90)*11.1111 + 500))\n",
    "        pwq3 = str(round((q3+90)*11.1111 + 500))\n",
    "        pwq4 = str(round((q4+90)*11.1111 + 500))\n",
    "        pwq5 = str(round((gripper+90)*11.1111 + 500))\n",
    "        # Concatinating the desired control signals in a long string\n",
    "        output = \"#0P\" + pwq0 + \"S300\"+\"#1P\" + pwq1 + \"S300\"+\"#2P\" + pwq2 + \"S300\"+\"#3P\" + pwq3 + \"S1500\" + \"#4P\" + pwq4 + \"S1500\"+ \"#5P\" + pwq5 + \"S1500\"+\"\\r\"  # Formatting string\n",
    "        output = output.encode('utf-8')  # Converting to bytes literals\n",
    "        ssc32.write(output)  # sending serial data to the SSC-32 board\n",
    "\n",
    "devices = ['/dev/ttyUSB0','/dev/ttyUSB1','COM1','COM2','COM3','COM4','COM5','COM6','COM7','COM8','COM9']\n",
    "        \n",
    "# Starting the connection with the SSC-32U controller\n",
    "for device in devices:\n",
    "    try:\n",
    "        ssc32 = serial.Serial(device, 9600, timeout=1.0)\n",
    "    except serial.SerialException:\n",
    "        print(\"No device connected on \", device)\n",
    "# Initializing the position of the robot\n",
    "ssc32.write(b'#0P1500S100#1P1150S200#2P1500S300#3P1500S350#4P1500S100#5P1500S150\\r')\n",
    "# Initialising the sliders\n",
    "interact(robot_control, q0=(-90,90), q1=(-90,90), q2=(-90,90), q3=(-90,90), q4=(-90,90), gripper=(-90,90))"
   ]
  },
  {
   "cell_type": "code",
   "execution_count": 65,
   "metadata": {},
   "outputs": [
    {
     "name": "stdout",
     "output_type": "stream",
     "text": [
      "[[0. ]\n",
      " [3. ]\n",
      " [0.5]\n",
      " [1. ]]\n",
      "[[2.0000000e+00]\n",
      " [2.0000000e+00]\n",
      " [1.2246468e-16]\n",
      " [1.0000000e+00]]\n"
     ]
    },
    {
     "data": {
      "image/png": "[encoded data removed]",
      "text/plain": [
       "<Figure size 432x288 with 1 Axes>"
      ]
     },
     "metadata": {},
     "output_type": "display_data"
    }
   ],
   "source": [
    "#2\n",
    "\n",
    "P = np.array([[0, 0, 0, 1]]).T\n",
    "t1 = transl(0, 3 , 0.5)\n",
    "t2 = trotz(90, 'deg')\n",
    "t3 = trotx(90, 'deg')\n",
    "t13 = t1@t2@t3\n",
    "P = t13@P\n",
    "\n",
    "p1 = SE3(x=0, y=3, z=0.5)\n",
    "p2 = SE3.Rz(theta=90, unit='deg')\n",
    "p3 = SE3.Rx(theta=90, unit='deg')\n",
    "\n",
    "(p1@p2@p3).plot()\n",
    "print(P)\n",
    "\n",
    "P2 = np.array([[-1, -0.5, 2, 1]]).T\n",
    "P2 = t13@P2\n",
    "print(P2)"
   ]
  },
  {
   "cell_type": "code",
   "execution_count": null,
   "metadata": {},
   "outputs": [],
   "source": []
  }
 ],
 "metadata": {
  "kernelspec": {
   "display_name": "Python 3 (ipykernel)",
   "language": "python",
   "name": "python3"
  },
  "language_info": {
   "codemirror_mode": {
    "name": "ipython",
    "version": 3
   },
   "file_extension": ".py",
   "mimetype": "text/x-python",
   "name": "python",
   "nbconvert_exporter": "python",
   "pygments_lexer": "ipython3",
   "version": "3.7.6"
  },
  "varInspector": {
   "cols": {
    "lenName": 16,
    "lenType": 16,
    "lenVar": 40
   },
   "kernels_config": {
    "python": {
     "delete_cmd_postfix": "",
     "delete_cmd_prefix": "del ",
     "library": "var_list.py",
     "varRefreshCmd": "print(var_dic_list())"
    },
    "r": {
     "delete_cmd_postfix": ") ",
     "delete_cmd_prefix": "rm(",
     "library": "var_list.r",
     "varRefreshCmd": "cat(var_dic_list()) "
    }
   },
   "types_to_exclude": [
    "module",
    "function",
    "builtin_function_or_method",
    "instance",
    "_Feature"
   ],
   "window_display": false
  }
 },
 "nbformat": 4,
 "nbformat_minor": 4
}
