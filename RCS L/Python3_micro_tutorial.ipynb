{
 "cells": [
  {
   "cell_type": "markdown",
   "metadata": {},
   "source": [
    "# Python 3 micro guide - presenting some useful ideas and syntax"
   ]
  },
  {
   "cell_type": "markdown",
   "metadata": {},
   "source": [
    "The RCS laboratories will use the Python 3 language. You are already familiar with many programming concepts, these next exercises serve as a familiarisation  with the syntax and some ideas for shortening the time spent on coding while solving assignments."
   ]
  },
  {
   "cell_type": "markdown",
   "metadata": {},
   "source": [
    "## Variables"
   ]
  },
  {
   "cell_type": "markdown",
   "metadata": {},
   "source": [
    "Python is completely object oriented, and not \"statically typed\". You do not need to declare variables before using them, or declare their type."
   ]
  },
  {
   "cell_type": "code",
   "execution_count": null,
   "metadata": {},
   "outputs": [],
   "source": [
    "myint = 7\n",
    "myfloat = 7.0\n",
    "print(\"myint:\", myint, \", myfloat:\", myfloat, \", type changed:\", float(myint))\n",
    "\n",
    "mystring = \"wow, that's a string\"\n",
    "print(mystring + \" in Python\")\n",
    "\n",
    "# assignments can be grouped\n",
    "a, b = 3, \"b\"\n",
    "print(a,b)"
   ]
  },
  {
   "cell_type": "markdown",
   "metadata": {},
   "source": [
    "## Libraries "
   ]
  },
  {
   "cell_type": "markdown",
   "metadata": {},
   "source": [
    "One characteristic of Python is its variety of open-source libraries (modules) that eliminate the need of coding from scratch. Whenever you need a new library, it is required you pip install/conda install it in your environment and later import it in code. If you wish to import a library that is not installed, the error stack trace will hint that specific module is not found. Always look at the error stack trace first.\n",
    "\n",
    "Syntax may be as such:"
   ]
  },
  {
   "cell_type": "code",
   "execution_count": null,
   "metadata": {},
   "outputs": [],
   "source": [
    "# the next lines use just some namespaces\n",
    "\n",
    "import lib\n",
    "from lib import * # import all functions from specific library\n",
    "from lib import method1, method2 # import only the needed methods\n",
    "from file import method1, method2 # if you have a file.py file that has multiple methods in it, you can also import them\n",
    "import longnamelibrary as l # you have the possibility to rename a library for later use in code\n",
    "import lib.longnamemethod as lm # you can rename specific methods as well\n",
    "\n",
    "# after importing desired libraries, you can use them in code\n",
    "# the dot ('.') serves as a way to access attributes and methods (with or without arguments) from that library or file\n",
    "\n",
    "lib.methods_from_lib()\n",
    "l.method_from_l(args*)\n",
    "var = method1(args*)\n",
    "var1 = method1.attribute\n",
    "var2, var3 = method2.nestedmethod1(args*) # if a method returns several outputs, you can declare them as such\n",
    "var4, var5 = method1.attribute, method2,attribute # similar, declaration of several variables can be grouped\n",
    "\n",
    "# in order to see the outputs, you can use the print function:\n",
    "print(\"arg1\",arg1,\"arg2\", arg2)"
   ]
  },
  {
   "cell_type": "markdown",
   "metadata": {},
   "source": [
    "Now try to apply in the next cell the aforementioned code, without errors. Some libraries that you will often use are numpy, matplotlib, math. Some of their functions are as in the next figure. \n",
    "\n",
    "\n",
    "\n",
    "<center>\n",
    "    <figure>\n",
    "    <img src=\"artwork/tutorial/all.JPG\" width=90%/>\n",
    "    <figcaption><center>Figure 1: Libraries trees</center></figcaption>\n",
    "</figure>\n",
    "</center>\n",
    "\n",
    "\n",
    "    \n",
    "    a. Create 2 variables, one an identity matrix of 2x2, the other a random matrix of 2x2, multiply them and invert the result.\n",
    "    b. Check if the math.cos method gives the expected results. Create an array with \"t = np.arange(0.0, 2.0, 0.01)\". Both math and numpy have the cos and sin methods. Try to find the difference between them.\n",
    "    c. Using the t array as time coordinate, create a sine wave array and plot it.\n"
   ]
  },
  {
   "cell_type": "code",
   "execution_count": 18,
   "metadata": {},
   "outputs": [
    {
     "name": "stdout",
     "output_type": "stream",
     "text": [
      "a)\n",
      "[[-0.375  0.875]\n",
      " [ 0.625 -1.125]]\n",
      "b)\n",
      "[0.0, 0.0, 0.0, 0.0, 0.0, 0.0, 0.0, 0.0, 0.0, 0.0, 0.0, 0.0, 0.0, 0.0, 0.0, 0.0, 0.0, 0.0, 0.0, 0.0, 0.0, 0.0, 0.0, 0.0, 0.0, 0.0, 0.0, 0.0, 0.0, 0.0, 0.0, 0.0, 0.0, 0.0, 0.0, 0.0, 0.0, 0.0, 0.0, 0.0, 0.0, 0.0, 0.0, 0.0, 0.0, 0.0, 0.0, 0.0, 0.0, 0.0, 0.0, 0.0, 0.0, 0.0, 0.0, 0.0, 0.0, 0.0, 0.0, 0.0, 0.0, 0.0, 0.0, 0.0, 0.0, 0.0, 0.0, 0.0, 0.0, 0.0, 0.0, 0.0, 0.0, 0.0, 0.0, 0.0, 0.0, 0.0, 0.0, 0.0, 0.0, 0.0, 0.0, 0.0, 0.0, 0.0, 0.0, 0.0, 0.0, 0.0, 0.0, 0.0, 0.0, 0.0, 0.0, 0.0, 0.0, 0.0, 0.0, 0.0, 0.0, 0.0, 0.0, 0.0, 0.0, 0.0, 0.0, 0.0, 0.0, 0.0, 0.0, 0.0, 0.0, 0.0, 0.0, 0.0, 0.0, 0.0, 0.0, 0.0, 0.0, 0.0, 0.0, 0.0, 0.0, 0.0, 0.0, 0.0, 0.0, 0.0, 0.0, 0.0, 0.0, 0.0, 0.0, 0.0, 0.0, 0.0, 0.0, 0.0, 0.0, 0.0, 0.0, 0.0, 0.0, 0.0, 0.0, 0.0, 0.0, 0.0, 0.0, 0.0, 0.0, 0.0, 0.0, 0.0, 0.0, 0.0, 0.0, 0.0, 0.0, 0.0, 0.0, 0.0, 0.0, 0.0, 0.0, 0.0, 0.0, 0.0, 0.0, 0.0, 0.0, 0.0, 0.0, 0.0, 0.0, 0.0, 0.0, 0.0, 0.0, 0.0, 0.0, 0.0, 0.0, 0.0, 0.0, 0.0, 0.0, 0.0, 0.0, 0.0, 0.0, 0.0, 0.0, 0.0, 0.0, 0.0, 0.0, 0.0]\n",
      "[0.0, 0.0, 0.0, 0.0, 0.0, 0.0, 0.0, 0.0, 0.0, 0.0, 0.0, 0.0, 0.0, 0.0, 0.0, 0.0, 0.0, 0.0, 0.0, 0.0, 0.0, 0.0, 0.0, 0.0, 0.0, 0.0, 0.0, 0.0, 0.0, 0.0, 0.0, 0.0, 0.0, 0.0, 0.0, 0.0, 0.0, 0.0, 0.0, 0.0, 0.0, 0.0, 0.0, 0.0, 0.0, 0.0, 0.0, 0.0, 0.0, 0.0, 0.0, 0.0, 0.0, 0.0, 0.0, 0.0, 0.0, 0.0, 0.0, 0.0, 0.0, 0.0, 0.0, 0.0, 0.0, 0.0, 0.0, 0.0, 0.0, 0.0, 0.0, 0.0, 0.0, 0.0, 0.0, 0.0, 0.0, 0.0, 0.0, 0.0, 0.0, 0.0, 0.0, 0.0, 0.0, 0.0, 0.0, 0.0, 0.0, 0.0, 0.0, 0.0, 0.0, 0.0, 0.0, 0.0, 0.0, 0.0, 0.0, 0.0, 0.0, 0.0, 0.0, 0.0, 0.0, 0.0, 0.0, 0.0, 0.0, 0.0, 0.0, 0.0, 0.0, 0.0, 0.0, 0.0, 0.0, 0.0, 0.0, 0.0, 0.0, 0.0, 0.0, 0.0, 0.0, 0.0, 0.0, 0.0, 0.0, 0.0, 0.0, 0.0, 0.0, 0.0, 0.0, 0.0, 0.0, 0.0, 0.0, 0.0, 0.0, 0.0, 0.0, 0.0, 0.0, 0.0, 0.0, 0.0, 0.0, 0.0, 0.0, 0.0, 0.0, 0.0, 0.0, 0.0, 0.0, 0.0, 0.0, 0.0, 0.0, 0.0, 0.0, 0.0, 0.0, 0.0, 0.0, 0.0, 0.0, 0.0, 0.0, 0.0, 0.0, 0.0, 0.0, 0.0, 0.0, 0.0, 0.0, 0.0, 0.0, 0.0, 0.0, 0.0, 0.0, 0.0, 0.0, 0.0, 0.0, 0.0, 0.0, 0.0, 0.0, 0.0, 0.0, 0.0, 0.0, 0.0, 0.0, 0.0]\n",
      "c)\n"
     ]
    },
    {
     "data": {
      "image/png": "[encoded data removed]",
      "text/plain": [
       "<Figure size 432x288 with 1 Axes>"
      ]
     },
     "metadata": {
      "needs_background": "light"
     },
     "output_type": "display_data"
    }
   ],
   "source": [
    "import numpy as np\n",
    "import math\n",
    "import matplotlib.pyplot as plt\n",
    "print(\"a)\")\n",
    "idMat = [[1, 0],[0, 1]]\n",
    "rMat = [[9, 7], [5, 3]]\n",
    "resultMat = np.matmul(idMat, rMat)\n",
    "inversedResultMat = np.linalg.inv(resultMat)\n",
    "print(inversedResultMat)\n",
    "print(\"b)\")\n",
    "t = np.arange(0.0, 2.0, 0.01)\n",
    "print([math.cos(x)-np.cos(x) for x in t])\n",
    "print([math.sin(x)-np.sin(x) for x in t])\n",
    "print(\"c)\")\n",
    "sinWave = [np.sin(x) for x in t]\n",
    "plt.plot(sinWave)\n",
    "plt.show()"
   ]
  },
  {
   "cell_type": "markdown",
   "metadata": {},
   "source": [
    "## Lists vs arrays"
   ]
  },
  {
   "cell_type": "code",
   "execution_count": null,
   "metadata": {},
   "outputs": [],
   "source": [
    "#We will often work with numpy arrays, which are defined as such:\n",
    "import numpy as np \n",
    "\n",
    "na = np.array([1,2,3])\n",
    "# or\n",
    "na2 = np.array([[1,2,3]])\n"
   ]
  },
  {
   "cell_type": "markdown",
   "metadata": {},
   "source": [
    "The difference between them lies in the dimensions of the arrays. \n",
    "Some functions that may come in handy are : $ x.shape, vars(x), type(x)$. \n",
    "Try to print the shape of na and na2 and see the difference.\n"
   ]
  },
  {
   "cell_type": "code",
   "execution_count": 20,
   "metadata": {},
   "outputs": [
    {
     "name": "stdout",
     "output_type": "stream",
     "text": [
      "(3,) (1, 3)\n"
     ]
    }
   ],
   "source": [
    "na = np.array([1,2,3])\n",
    "# or\n",
    "na2 = np.array([[1,2,3]])\n",
    "print(na.shape, na2.shape)"
   ]
  },
  {
   "cell_type": "markdown",
   "metadata": {},
   "source": [
    "If we want to define a matrix of eg. 3x2, one way to do it is using the np.array with the desired values. Numpy has also a np.matrix type that can be used to define matrices. The np.matrix offers transpose and inverse methods as: $m.T$, $m.I$. If desired, you can change from an np.array type into a np.matrix type with the np.asmatrix() method. Same goes backwards with np.asarray() method. If needed, you can also reshape arrays.\n",
    "\n",
    "Another handy method is the $concatenate()$ one. "
   ]
  },
  {
   "cell_type": "markdown",
   "metadata": {},
   "source": [
    "Defining a variable just as: $var = [a,b,c]$ will create a list. A list can contain any type and any number of types inside it. It can also be initially declared empty and later on filled with append(), extend() etc or directly with the known elements. Available methods are similar to other languages. \n"
   ]
  },
  {
   "cell_type": "code",
   "execution_count": null,
   "metadata": {},
   "outputs": [],
   "source": [
    "import numpy as np\n",
    "\n",
    "m1 = np.array([[1,2],[3,4],[5,6]])\n",
    "a1 = np.array([1,2,3,4,5,6])\n",
    "a2 = a1.reshape(3,2)\n",
    "\n",
    "m2 = np.matrix('1 2; 3 4; 5 6')  #both these commands return the same output\n",
    "m3 = np.matrix([[1,2],[3,4],[5,6]])\n",
    "\n",
    "m4 = np.asmatrix(a1)\n",
    "\n",
    "# print('m1=\\n',m1,'\\n m1 type:', type(m1), '\\n m1 shape', m1.shape)\n",
    "# print('a1=\\n',a1,'\\n a1 type:', type(a1), '\\n a1 shape', a1.shape)\n",
    "# print('a2=\\n',a2,'\\n a2 type:', type(a2), '\\n a2 shape', a2.shape)\n",
    "# print('m2=\\n',m2,'\\n m2 type:', type(m2), '\\n m2 shape', m2.shape)\n",
    "# print('m3=\\n',m3,'\\n m3 type:', type(m3), '\\n m3 shape', m3.shape)\n",
    "# print('m4=\\n',m4,'\\n m4 type:', type(m4), '\\n m4 shape', m4.shape)\n",
    "\n",
    "\n",
    "#examples of concatenate over first or second axis for different sized variables\n",
    "a = np.array([[1, 2], [3, 4]])\n",
    "b = np.array([[5, 6]])\n",
    "\n",
    "# print(np.concatenate((a, b), axis=0))\n",
    "# print(np.concatenate((a, b.T), axis=1))\n",
    "# print(np.concatenate((a, b), axis=None))\n"
   ]
  },
  {
   "cell_type": "code",
   "execution_count": null,
   "metadata": {},
   "outputs": [],
   "source": [
    "# if you need to take columns, lines, elements from an array/matrix\n",
    "l = m[i,:]\n",
    "c = m[:,j]\n",
    "e = m[i,j]"
   ]
  },
  {
   "cell_type": "markdown",
   "metadata": {},
   "source": [
    "\n"
   ]
  },
  {
   "cell_type": "markdown",
   "metadata": {},
   "source": [
    "    a. Declare a column matrix of integers from 1 to 8. Use this matrix or create a new variable with the same numbers, but with 2 columns and 4 lines. Define a variable c as the last column of this matrix. Define a second variable with the first 2 elements from c and sum them up in a new variable.\n",
    "    b. Define a variable that would have shape as ()\n",
    "    c. Define a and b variables as np.array matrices of 2x2. Define a1 and b1 as np.matrix variables with the same elements as a and b. Use '*','@' and np.matmul(A,B) product operators for each of the pairs and observe the differences.\n",
    "    d. Create a list of 3 integers and 3 np.matrix variables. Add the first element of the list to all the elements of the first matrix of the list. How would you check the shape/size of the list? Raise the first element of the list to the power of the second element, using the '**' operator."
   ]
  },
  {
   "cell_type": "code",
   "execution_count": 54,
   "metadata": {},
   "outputs": [
    {
     "name": "stdout",
     "output_type": "stream",
     "text": [
      "a)\n",
      "a =  [[1]\n",
      " [2]\n",
      " [3]\n",
      " [4]\n",
      " [5]\n",
      " [6]\n",
      " [7]\n",
      " [8]]\n",
      "b =  [[1 2]\n",
      " [3 4]\n",
      " [5 6]\n",
      " [7 8]]\n",
      "c =  [[2]\n",
      " [4]\n",
      " [6]\n",
      " [8]]\n",
      "s =  6\n",
      "b)\n",
      "()\n",
      "c)\n",
      "[[70 30]\n",
      " [63 66]]\n",
      "[[115 122]\n",
      " [272 108]]\n",
      "[[115 122]\n",
      " [272 108]]\n",
      "[[115 122]\n",
      " [272 108]]\n",
      "[[115 122]\n",
      " [272 108]]\n",
      "[[115 122]\n",
      " [272 108]]\n",
      "d)\n",
      "[[ 9 12]\n",
      " [14 10]]\n",
      "6\n",
      "(6,)\n",
      "49\n"
     ]
    }
   ],
   "source": [
    "print(\"a)\")\n",
    "a = np.arange(1, 9, 1)\n",
    "a = a.reshape(8, 1)\n",
    "print(\"a = \", a)\n",
    "b = a.reshape(4, 2)\n",
    "print(\"b = \", b)\n",
    "c = b[:,1]\n",
    "c = c.reshape(4, 1)\n",
    "print(\"c = \", c)\n",
    "s = c[0,0] + c[1,0]\n",
    "print(\"s = \", s)\n",
    "print(\"b)\")\n",
    "k = np.array(0)\n",
    "print(k.shape)\n",
    "print(\"c)\")\n",
    "a = np.array([[2,5],[7,3]])\n",
    "b = np.array([[35, 6],[9, 22]])\n",
    "a1 = np.matrix([[2,5],[7,3]])\n",
    "b1 = np.matrix([[35, 6],[9, 22]])\n",
    "print(a*b)\n",
    "print(a@b)\n",
    "print(np.matmul(a,b))\n",
    "print(a1*b1)\n",
    "print(a1@b1)\n",
    "print(np.matmul(a1,b1))\n",
    "print(\"d)\")\n",
    "myList = [7, 2, 5, np.matrix([[2,5],[7,3]]), np.matrix([[35, 6],[9, 22]]), np.matrix([[1, 2], [3, 4]])]\n",
    "myList[3] += myList[0]\n",
    "print(myList[3])\n",
    "print(np.size(myList))\n",
    "print(np.shape(myList))\n",
    "myList[0]**=myList[1]\n",
    "print(myList[0])"
   ]
  },
  {
   "cell_type": "markdown",
   "metadata": {},
   "source": [
    "# Statements"
   ]
  },
  {
   "cell_type": "markdown",
   "metadata": {},
   "source": [
    "Whenever you want to use statements (for, if, etc) or to define your own methods, keep in mind to not forget the colon before the instructions and the indentation with \"tab\" (or 4 spaces) for the scope of the code, instead of curly brackets. Notice that code blocks do not need any termination."
   ]
  },
  {
   "cell_type": "code",
   "execution_count": null,
   "metadata": {},
   "outputs": [],
   "source": [
    "def my_function():\n",
    "    instructions\n",
    "\n",
    "if cond1:\n",
    "    \n",
    "    if (not cond2):\n",
    "        instr_inner\n",
    "    instr_outer\n",
    "    \n",
    "else:\n",
    "    instr_else\n",
    "        \n",
    "        \n",
    "for element in list:\n",
    "    instr_for\n",
    "    \n",
    "# you can use range(n) if integer iteration is needed, *note: range(n) takes values from 0 to n-1\n",
    "for x in range(n):\n",
    "    instr_range\n",
    "    \n",
    "    \n",
    "# *if needed, when working with lists in combination with for loops:\n",
    "[list.method() for i in range(0,n)]\n",
    "\n"
   ]
  },
  {
   "cell_type": "markdown",
   "metadata": {},
   "source": [
    "    a. Define a list of integers from 1 to 20 and iterate through it to half all the prime numbers.\n"
   ]
  },
  {
   "cell_type": "code",
   "execution_count": 61,
   "metadata": {},
   "outputs": [
    {
     "name": "stdout",
     "output_type": "stream",
     "text": [
      "[0.5, 1.0, 1.5, 4, 2.5, 6, 3.5, 8, 9, 10, 5.5, 12, 6.5, 14, 15, 16, 8.5, 18, 9.5]\n"
     ]
    }
   ],
   "source": [
    "intList = [x for x in range(1,20)]\n",
    "def is_prime(n):\n",
    "  for i in range(2,n):\n",
    "    if (n%i) == 0:\n",
    "      return False\n",
    "  return True\n",
    "\n",
    "for i in range(0,len(intList)):\n",
    "    if(is_prime(intList[i])):\n",
    "        intList[i] /= 2;\n",
    "\n",
    "print(intList)"
   ]
  },
  {
   "cell_type": "markdown",
   "metadata": {},
   "source": [
    "##  Debugging"
   ]
  },
  {
   "cell_type": "markdown",
   "metadata": {},
   "source": [
    "For most libraries or methods used, you have the option to look at the Python documentation by using the [.__ doc __](https://blog.finxter.com/what-is-__-doc-__-in-python/) command."
   ]
  },
  {
   "cell_type": "code",
   "execution_count": null,
   "metadata": {},
   "outputs": [],
   "source": [
    "import numpy as np\n",
    "\n",
    "print(np.__doc__)"
   ]
  },
  {
   "cell_type": "markdown",
   "metadata": {},
   "source": [
    "If stuck when working on the lab exercises, first try to get any info from the error stack trace. A lot of times maybe an import could be the only problem. If not, take things step by step. Also, check indentation."
   ]
  },
  {
   "cell_type": "markdown",
   "metadata": {},
   "source": [
    "Check if dimensions, attributes and types of variables are as you wish with $ x.shape, vars(x), type(x)$. "
   ]
  },
  {
   "cell_type": "markdown",
   "metadata": {},
   "source": [
    "You can always ask us questions during the semester, during evaluation this option won't be available."
   ]
  },
  {
   "cell_type": "markdown",
   "metadata": {},
   "source": [
    " $!$ When working with the lab robots, restart the kernel when you want to run cells that send data to it. Make sure the port is the correct one as well."
   ]
  }
 ],
 "metadata": {
  "kernelspec": {
   "display_name": "Python 3 (ipykernel)",
   "language": "python",
   "name": "python3"
  },
  "language_info": {
   "codemirror_mode": {
    "name": "ipython",
    "version": 3
   },
   "file_extension": ".py",
   "mimetype": "text/x-python",
   "name": "python",
   "nbconvert_exporter": "python",
   "pygments_lexer": "ipython3",
   "version": "3.7.6"
  },
  "varInspector": {
   "cols": {
    "lenName": 16,
    "lenType": 16,
    "lenVar": 40
   },
   "kernels_config": {
    "python": {
     "delete_cmd_postfix": "",
     "delete_cmd_prefix": "del ",
     "library": "var_list.py",
     "varRefreshCmd": "print(var_dic_list())"
    },
    "r": {
     "delete_cmd_postfix": ") ",
     "delete_cmd_prefix": "rm(",
     "library": "var_list.r",
     "varRefreshCmd": "cat(var_dic_list()) "
    }
   },
   "types_to_exclude": [
    "module",
    "function",
    "builtin_function_or_method",
    "instance",
    "_Feature"
   ],
   "window_display": false
  }
 },
 "nbformat": 4,
 "nbformat_minor": 4
}
